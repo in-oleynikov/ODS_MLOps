{
 "cells": [
  {
   "cell_type": "markdown",
   "id": "fd2a0be8",
   "metadata": {},
   "source": [
    "# Описание проекта"
   ]
  },
  {
   "cell_type": "markdown",
   "id": "bdfac357",
   "metadata": {},
   "source": [
    "В данном ноутбуке выполнен файнтьюн bert подобных моделей для задачи token classification в частности NEr для круса MLOPS от ODS\n",
    "Модель построена самым простым образом, т.к. основная задача курса это проведение исследований и разворачивание моделей в проде. "
   ]
  },
  {
   "cell_type": "markdown",
   "id": "fc0b99d1",
   "metadata": {},
   "source": [
    "# Загружаем данные "
   ]
  },
  {
   "cell_type": "code",
   "execution_count": 1,
   "id": "1d0d61a8",
   "metadata": {},
   "outputs": [
    {
     "name": "stderr",
     "output_type": "stream",
     "text": [
      "/home/ivan/miniconda3/envs/mlops/lib/python3.8/site-packages/tqdm/auto.py:22: TqdmWarning: IProgress not found. Please update jupyter and ipywidgets. See https://ipywidgets.readthedocs.io/en/stable/user_install.html\n",
      "  from .autonotebook import tqdm as notebook_tqdm\n"
     ]
    }
   ],
   "source": [
    "from datasets import load_dataset\n",
    "\n",
    "from transformers import AutoTokenizer\n",
    "from transformers import DataCollatorForTokenClassification\n",
    "import evaluate\n",
    "from transformers import AutoModelForTokenClassification\n",
    "from transformers import TrainingArguments\n",
    "from transformers import Trainer\n",
    "from torch.utils.data import DataLoader\n",
    "from torch.optim import AdamW\n",
    "from accelerate import Accelerator\n",
    "from transformers import get_scheduler\n",
    "from tqdm.auto import tqdm\n",
    "import torch\n",
    "from transformers import pipeline"
   ]
  },
  {
   "cell_type": "markdown",
   "id": "09116613",
   "metadata": {},
   "source": [
    "Для разработки модели возьмем классический датасет conll2003"
   ]
  },
  {
   "cell_type": "code",
   "execution_count": 83,
   "id": "116a52ef",
   "metadata": {},
   "outputs": [
    {
     "name": "stderr",
     "output_type": "stream",
     "text": [
      "Reusing dataset conll2003 (/home/ivan/.cache/huggingface/datasets/conll2003/conll2003/1.0.0/9a4d16a94f8674ba3466315300359b0acd891b68b6c8743ddf60b9c702adce98)\n",
      "100%|████████████████████████████████████████████| 3/3 [00:00<00:00, 550.72it/s]\n"
     ]
    }
   ],
   "source": [
    "raw_datasets = load_dataset(\"conll2003\")"
   ]
  },
  {
   "cell_type": "markdown",
   "id": "c6aba5d7",
   "metadata": {},
   "source": [
    "Посмотрим на структуру данных:"
   ]
  },
  {
   "cell_type": "code",
   "execution_count": 3,
   "id": "b86014dc",
   "metadata": {},
   "outputs": [
    {
     "data": {
      "text/plain": [
       "DatasetDict({\n",
       "    train: Dataset({\n",
       "        features: ['id', 'tokens', 'pos_tags', 'chunk_tags', 'ner_tags'],\n",
       "        num_rows: 14041\n",
       "    })\n",
       "    validation: Dataset({\n",
       "        features: ['id', 'tokens', 'pos_tags', 'chunk_tags', 'ner_tags'],\n",
       "        num_rows: 3250\n",
       "    })\n",
       "    test: Dataset({\n",
       "        features: ['id', 'tokens', 'pos_tags', 'chunk_tags', 'ner_tags'],\n",
       "        num_rows: 3453\n",
       "    })\n",
       "})"
      ]
     },
     "execution_count": 3,
     "metadata": {},
     "output_type": "execute_result"
    }
   ],
   "source": [
    "raw_datasets"
   ]
  },
  {
   "cell_type": "code",
   "execution_count": 4,
   "id": "92c2d966",
   "metadata": {},
   "outputs": [
    {
     "data": {
      "text/plain": [
       "[3, 0, 7, 0, 0, 0, 7, 0, 0]"
      ]
     },
     "execution_count": 4,
     "metadata": {},
     "output_type": "execute_result"
    }
   ],
   "source": [
    "raw_datasets['train']['ner_tags'][0]"
   ]
  },
  {
   "cell_type": "code",
   "execution_count": 5,
   "id": "cbef288c",
   "metadata": {},
   "outputs": [
    {
     "data": {
      "text/plain": [
       "['EU', 'rejects', 'German', 'call', 'to', 'boycott', 'British', 'lamb', '.']"
      ]
     },
     "execution_count": 5,
     "metadata": {},
     "output_type": "execute_result"
    }
   ],
   "source": [
    "raw_datasets['train']['tokens'][0]"
   ]
  },
  {
   "cell_type": "code",
   "execution_count": 6,
   "id": "9fa44c5c",
   "metadata": {},
   "outputs": [
    {
     "data": {
      "text/plain": [
       "Sequence(feature=ClassLabel(num_classes=9, names=['O', 'B-PER', 'I-PER', 'B-ORG', 'I-ORG', 'B-LOC', 'I-LOC', 'B-MISC', 'I-MISC'], id=None), length=-1, id=None)"
      ]
     },
     "execution_count": 6,
     "metadata": {},
     "output_type": "execute_result"
    }
   ],
   "source": [
    "raw_datasets['train'].features['ner_tags']"
   ]
  },
  {
   "cell_type": "code",
   "execution_count": null,
   "id": "4b141123",
   "metadata": {},
   "outputs": [],
   "source": []
  },
  {
   "cell_type": "markdown",
   "id": "de628300",
   "metadata": {},
   "source": [
    "# Обработка данных "
   ]
  },
  {
   "cell_type": "markdown",
   "id": "755ed73d",
   "metadata": {},
   "source": [
    "Посмотрим на сами данные:"
   ]
  },
  {
   "cell_type": "code",
   "execution_count": 7,
   "id": "537ca4fe",
   "metadata": {},
   "outputs": [
    {
     "data": {
      "text/plain": [
       "Sequence(feature=ClassLabel(num_classes=9, names=['O', 'B-PER', 'I-PER', 'B-ORG', 'I-ORG', 'B-LOC', 'I-LOC', 'B-MISC', 'I-MISC'], id=None), length=-1, id=None)"
      ]
     },
     "execution_count": 7,
     "metadata": {},
     "output_type": "execute_result"
    }
   ],
   "source": [
    "ner_feature = raw_datasets[\"train\"].features[\"ner_tags\"]\n",
    "ner_feature"
   ]
  },
  {
   "cell_type": "code",
   "execution_count": 8,
   "id": "3970b4ae",
   "metadata": {},
   "outputs": [
    {
     "data": {
      "text/plain": [
       "['O', 'B-PER', 'I-PER', 'B-ORG', 'I-ORG', 'B-LOC', 'I-LOC', 'B-MISC', 'I-MISC']"
      ]
     },
     "execution_count": 8,
     "metadata": {},
     "output_type": "execute_result"
    }
   ],
   "source": [
    "label_names = ner_feature.feature.names\n",
    "label_names"
   ]
  },
  {
   "cell_type": "code",
   "execution_count": 9,
   "id": "bd39f0e7",
   "metadata": {},
   "outputs": [
    {
     "name": "stdout",
     "output_type": "stream",
     "text": [
      "EU    rejects German call to boycott British lamb . \n",
      "B-ORG O       B-MISC O    O  O       B-MISC  O    O \n"
     ]
    }
   ],
   "source": [
    "words = raw_datasets['train'][0]['tokens']\n",
    "labels = raw_datasets[\"train\"][0][\"ner_tags\"]\n",
    "line1 = \"\"\n",
    "line2 = \"\"\n",
    "for word, label in zip(words, labels):\n",
    "    full_label = label_names[label]\n",
    "    max_length = max(len(word), len(full_label))\n",
    "    line1 += word + \" \" * (max_length - len(word) + 1)\n",
    "    line2 += full_label + \" \" * (max_length - len(full_label) + 1)\n",
    "\n",
    "print(line1)\n",
    "print(line2) "
   ]
  },
  {
   "cell_type": "code",
   "execution_count": 10,
   "id": "e54db4da",
   "metadata": {},
   "outputs": [
    {
     "name": "stdout",
     "output_type": "stream",
     "text": [
      "Germany 's representative to the European Union 's veterinary committee Werner Zwingmann said on Wednesday consumers should buy sheepmeat from countries other than Britain until the scientific advice was clearer . \n",
      "B-LOC   O  O              O  O   B-ORG    I-ORG O  O          O         B-PER  I-PER     O    O  O         O         O      O   O         O    O         O     O    B-LOC   O     O   O          O      O   O       O \n"
     ]
    }
   ],
   "source": [
    "words = raw_datasets['train'][4]['tokens']\n",
    "labels = raw_datasets[\"train\"][4][\"ner_tags\"]\n",
    "line1 = \"\"\n",
    "line2 = \"\"\n",
    "for word, label in zip(words, labels):\n",
    "    full_label = label_names[label]\n",
    "    max_length = max(len(word), len(full_label))\n",
    "    line1 += word + \" \" * (max_length - len(word) + 1)\n",
    "    line2 += full_label + \" \" * (max_length - len(full_label) + 1)\n",
    "\n",
    "print(line1)\n",
    "print(line2) "
   ]
  },
  {
   "cell_type": "code",
   "execution_count": 11,
   "id": "4d9653d7",
   "metadata": {},
   "outputs": [
    {
     "name": "stdout",
     "output_type": "stream",
     "text": [
      "EU  rejects German call to boycott British lamb . \n",
      "NNP VBZ     JJ     NN   TO VB      JJ      NN   . \n"
     ]
    }
   ],
   "source": [
    "words = raw_datasets['train'][0]['tokens']\n",
    "pos_names = raw_datasets['train'].features['pos_tags'].feature.names\n",
    "labels = raw_datasets[\"train\"][0][\"pos_tags\"]\n",
    "line1 = \"\"\n",
    "line2 = \"\"\n",
    "for word, label in zip(words, labels):\n",
    "    full_label = pos_names[label]\n",
    "    max_length = max(len(word), len(full_label))\n",
    "    line1 += word + \" \" * (max_length - len(word) + 1)\n",
    "    line2 += full_label + \" \" * (max_length - len(full_label) + 1)\n",
    "\n",
    "print(line1)\n",
    "print(line2) "
   ]
  },
  {
   "cell_type": "markdown",
   "id": "bc8d3fd4",
   "metadata": {},
   "source": [
    "Для удобства рассмотрим дистилированную модель bert-tiny"
   ]
  },
  {
   "cell_type": "code",
   "execution_count": 2,
   "id": "0c8973fe",
   "metadata": {},
   "outputs": [],
   "source": [
    "model_checkpoint = \"prajjwal1/bert-tiny\"\n",
    "tokenizer = AutoTokenizer.from_pretrained(model_checkpoint)\n"
   ]
  },
  {
   "cell_type": "code",
   "execution_count": 13,
   "id": "d4bc3197",
   "metadata": {},
   "outputs": [
    {
     "data": {
      "text/plain": [
       "['[CLS]',\n",
       " 'germany',\n",
       " \"'\",\n",
       " 's',\n",
       " 'representative',\n",
       " 'to',\n",
       " 'the',\n",
       " 'european',\n",
       " 'union',\n",
       " \"'\",\n",
       " 's',\n",
       " 'veterinary',\n",
       " 'committee',\n",
       " 'werner',\n",
       " 'z',\n",
       " '##wing',\n",
       " '##mann',\n",
       " 'said',\n",
       " 'on',\n",
       " 'wednesday',\n",
       " 'consumers',\n",
       " 'should',\n",
       " 'buy',\n",
       " 'sheep',\n",
       " '##me',\n",
       " '##at',\n",
       " 'from',\n",
       " 'countries',\n",
       " 'other',\n",
       " 'than',\n",
       " 'britain',\n",
       " 'until',\n",
       " 'the',\n",
       " 'scientific',\n",
       " 'advice',\n",
       " 'was',\n",
       " 'clearer',\n",
       " '.',\n",
       " '[SEP]']"
      ]
     },
     "execution_count": 13,
     "metadata": {},
     "output_type": "execute_result"
    }
   ],
   "source": [
    "inputs = tokenizer(raw_datasets[\"train\"][4][\"tokens\"], is_split_into_words=True)\n",
    "inputs.tokens()"
   ]
  },
  {
   "cell_type": "code",
   "execution_count": 14,
   "id": "2712c074",
   "metadata": {},
   "outputs": [
    {
     "data": {
      "text/plain": [
       "[None,\n",
       " 0,\n",
       " 1,\n",
       " 1,\n",
       " 2,\n",
       " 3,\n",
       " 4,\n",
       " 5,\n",
       " 6,\n",
       " 7,\n",
       " 7,\n",
       " 8,\n",
       " 9,\n",
       " 10,\n",
       " 11,\n",
       " 11,\n",
       " 11,\n",
       " 12,\n",
       " 13,\n",
       " 14,\n",
       " 15,\n",
       " 16,\n",
       " 17,\n",
       " 18,\n",
       " 18,\n",
       " 18,\n",
       " 19,\n",
       " 20,\n",
       " 21,\n",
       " 22,\n",
       " 23,\n",
       " 24,\n",
       " 25,\n",
       " 26,\n",
       " 27,\n",
       " 28,\n",
       " 29,\n",
       " 30,\n",
       " None]"
      ]
     },
     "execution_count": 14,
     "metadata": {},
     "output_type": "execute_result"
    }
   ],
   "source": [
    "inputs.word_ids()"
   ]
  },
  {
   "cell_type": "markdown",
   "id": "1d3dd0cb",
   "metadata": {},
   "source": [
    "Т.к. при токенизации некоторые слова могут разбиваться на несколько токенов, то необходимо привести в соответствие, чтобы новым токенам был приведен label слова."
   ]
  },
  {
   "cell_type": "code",
   "execution_count": 15,
   "id": "4684f6f7",
   "metadata": {},
   "outputs": [],
   "source": [
    "def align_labels_with_tokens(labels, word_ids):\n",
    "    new_labels = []\n",
    "    current_word = None\n",
    "    for word_id in word_ids:\n",
    "        if word_id != current_word:\n",
    "            # Start of a new word!\n",
    "            current_word = word_id\n",
    "            label = -100 if word_id is None else labels[word_id]\n",
    "            new_labels.append(label)\n",
    "        elif word_id is None:\n",
    "            # Special token\n",
    "            new_labels.append(-100)\n",
    "        else:\n",
    "            # Same word as previous token\n",
    "            label = labels[word_id]\n",
    "            # If the label is B-XXX we change it to I-XXX\n",
    "            if label % 2 == 1:\n",
    "                label += 1\n",
    "            new_labels.append(label)\n",
    "\n",
    "    return new_labels"
   ]
  },
  {
   "cell_type": "code",
   "execution_count": 16,
   "id": "787b3019",
   "metadata": {},
   "outputs": [
    {
     "name": "stdout",
     "output_type": "stream",
     "text": [
      "[5, 0, 0, 0, 0, 3, 4, 0, 0, 0, 1, 2, 0, 0, 0, 0, 0, 0, 0, 0, 0, 0, 0, 5, 0, 0, 0, 0, 0, 0, 0]\n",
      "[-100, 5, 0, 0, 0, 0, 0, 3, 4, 0, 0, 0, 0, 1, 2, 2, 2, 0, 0, 0, 0, 0, 0, 0, 0, 0, 0, 0, 0, 0, 5, 0, 0, 0, 0, 0, 0, 0, -100]\n"
     ]
    }
   ],
   "source": [
    "labels = raw_datasets[\"train\"][4][\"ner_tags\"]\n",
    "word_ids = inputs.word_ids()\n",
    "print(labels)\n",
    "print(align_labels_with_tokens(labels, word_ids))"
   ]
  },
  {
   "cell_type": "code",
   "execution_count": 17,
   "id": "0051eadb",
   "metadata": {},
   "outputs": [],
   "source": [
    "def tokenize_and_align_labels(examples):\n",
    "    tokenized_inputs = tokenizer(\n",
    "        examples[\"tokens\"], truncation=True, is_split_into_words=True\n",
    "    )\n",
    "    all_labels = examples[\"ner_tags\"]\n",
    "    new_labels = []\n",
    "    for i, labels in enumerate(all_labels):\n",
    "        word_ids = tokenized_inputs.word_ids(i)\n",
    "        new_labels.append(align_labels_with_tokens(labels, word_ids))\n",
    "\n",
    "    tokenized_inputs[\"labels\"] = new_labels\n",
    "    return tokenized_inputs"
   ]
  },
  {
   "cell_type": "code",
   "execution_count": 18,
   "id": "d3c01bde",
   "metadata": {},
   "outputs": [
    {
     "name": "stderr",
     "output_type": "stream",
     "text": [
      "Loading cached processed dataset at /home/ivan/.cache/huggingface/datasets/conll2003/conll2003/1.0.0/9a4d16a94f8674ba3466315300359b0acd891b68b6c8743ddf60b9c702adce98/cache-7f7b7bdf1cf63085.arrow\n",
      "Loading cached processed dataset at /home/ivan/.cache/huggingface/datasets/conll2003/conll2003/1.0.0/9a4d16a94f8674ba3466315300359b0acd891b68b6c8743ddf60b9c702adce98/cache-2397cfa85b91cecd.arrow\n",
      "  0%|                                                     | 0/4 [00:00<?, ?ba/s]Asking to truncate to max_length but no maximum length is provided and the model has no predefined maximum length. Default to no truncation.\n",
      "100%|█████████████████████████████████████████████| 4/4 [00:00<00:00, 12.44ba/s]\n"
     ]
    }
   ],
   "source": [
    "tokenized_datasets = raw_datasets.map(\n",
    "    tokenize_and_align_labels,\n",
    "    batched=True,\n",
    "    remove_columns=raw_datasets[\"train\"].column_names,\n",
    ")"
   ]
  },
  {
   "cell_type": "code",
   "execution_count": 19,
   "id": "6e2d1475",
   "metadata": {},
   "outputs": [],
   "source": [
    "data_collator = DataCollatorForTokenClassification(tokenizer=tokenizer)"
   ]
  },
  {
   "cell_type": "code",
   "execution_count": 20,
   "id": "22051295",
   "metadata": {},
   "outputs": [
    {
     "data": {
      "text/plain": [
       "tensor([[-100,    3,    0,    7,    0,    0,    0,    7,    0,    0, -100],\n",
       "        [-100,    1,    2, -100, -100, -100, -100, -100, -100, -100, -100],\n",
       "        [-100,    5,    0,    0,    0,    0,    0, -100, -100, -100, -100]])"
      ]
     },
     "execution_count": 20,
     "metadata": {},
     "output_type": "execute_result"
    }
   ],
   "source": [
    "batch = data_collator([tokenized_datasets[\"train\"][i] for i in range(3)])\n",
    "batch[\"labels\"]"
   ]
  },
  {
   "cell_type": "markdown",
   "id": "759ce9b0",
   "metadata": {},
   "source": [
    "# Метрики "
   ]
  },
  {
   "cell_type": "markdown",
   "id": "b0a57913",
   "metadata": {},
   "source": [
    "Для анализа метрик воспользуемся библиотекой seqeval"
   ]
  },
  {
   "cell_type": "code",
   "execution_count": 84,
   "id": "8c31a0c8",
   "metadata": {},
   "outputs": [],
   "source": [
    "metric = evaluate.load(\"seqeval\")"
   ]
  },
  {
   "cell_type": "code",
   "execution_count": 85,
   "id": "fbcaf68e",
   "metadata": {},
   "outputs": [
    {
     "data": {
      "text/plain": [
       "EvaluationModule(name: \"seqeval\", module_type: \"metric\", features: {'predictions': Sequence(feature=Value(dtype='string', id='label'), length=-1, id='sequence'), 'references': Sequence(feature=Value(dtype='string', id='label'), length=-1, id='sequence')}, usage: \"\"\"\n",
       "Produces labelling scores along with its sufficient statistics\n",
       "from a source against one or more references.\n",
       "\n",
       "Args:\n",
       "    predictions: List of List of predicted labels (Estimated targets as returned by a tagger)\n",
       "    references: List of List of reference labels (Ground truth (correct) target values)\n",
       "    suffix: True if the IOB prefix is after type, False otherwise. default: False\n",
       "    scheme: Specify target tagging scheme. Should be one of [\"IOB1\", \"IOB2\", \"IOE1\", \"IOE2\", \"IOBES\", \"BILOU\"].\n",
       "        default: None\n",
       "    mode: Whether to count correct entity labels with incorrect I/B tags as true positives or not.\n",
       "        If you want to only count exact matches, pass mode=\"strict\". default: None.\n",
       "    sample_weight: Array-like of shape (n_samples,), weights for individual samples. default: None\n",
       "    zero_division: Which value to substitute as a metric value when encountering zero division. Should be on of 0, 1,\n",
       "        \"warn\". \"warn\" acts as 0, but the warning is raised.\n",
       "\n",
       "Returns:\n",
       "    'scores': dict. Summary of the scores for overall and per type\n",
       "        Overall:\n",
       "            'accuracy': accuracy,\n",
       "            'precision': precision,\n",
       "            'recall': recall,\n",
       "            'f1': F1 score, also known as balanced F-score or F-measure,\n",
       "        Per type:\n",
       "            'precision': precision,\n",
       "            'recall': recall,\n",
       "            'f1': F1 score, also known as balanced F-score or F-measure\n",
       "Examples:\n",
       "\n",
       "    >>> predictions = [['O', 'O', 'B-MISC', 'I-MISC', 'I-MISC', 'I-MISC', 'O'], ['B-PER', 'I-PER', 'O']]\n",
       "    >>> references = [['O', 'O', 'O', 'B-MISC', 'I-MISC', 'I-MISC', 'O'], ['B-PER', 'I-PER', 'O']]\n",
       "    >>> seqeval = evaluate.load(\"seqeval\")\n",
       "    >>> results = seqeval.compute(predictions=predictions, references=references)\n",
       "    >>> print(list(results.keys()))\n",
       "    ['MISC', 'PER', 'overall_precision', 'overall_recall', 'overall_f1', 'overall_accuracy']\n",
       "    >>> print(results[\"overall_f1\"])\n",
       "    0.5\n",
       "    >>> print(results[\"PER\"][\"f1\"])\n",
       "    1.0\n",
       "\"\"\", stored examples: 0)"
      ]
     },
     "execution_count": 85,
     "metadata": {},
     "output_type": "execute_result"
    }
   ],
   "source": [
    "metric"
   ]
  },
  {
   "cell_type": "code",
   "execution_count": 86,
   "id": "1eff1235",
   "metadata": {},
   "outputs": [],
   "source": [
    "def compute_metrics(eval_preds):\n",
    "    logits, labels = eval_preds\n",
    "    predictions = np.argmax(logits, axis=-1)\n",
    "\n",
    "    # Remove ignored index (special tokens) and convert to labels\n",
    "    true_labels = [[label_names[l] for l in label if l != -100] for label in labels]\n",
    "    true_predictions = [\n",
    "        [label_names[p] for (p, l) in zip(prediction, label) if l != -100]\n",
    "        for prediction, label in zip(predictions, labels)\n",
    "    ]\n",
    "    all_metrics = metric.compute(predictions=true_predictions, references=true_labels)\n",
    "    return {\n",
    "        \"precision\": all_metrics[\"overall_precision\"],\n",
    "        \"recall\": all_metrics[\"overall_recall\"],\n",
    "        \"f1\": all_metrics[\"overall_f1\"],\n",
    "        \"accuracy\": all_metrics[\"overall_accuracy\"],\n",
    "    }"
   ]
  },
  {
   "cell_type": "code",
   "execution_count": null,
   "id": "581ab350",
   "metadata": {},
   "outputs": [],
   "source": []
  },
  {
   "cell_type": "markdown",
   "id": "18ff851b",
   "metadata": {},
   "source": [
    "# Подготовливаем данные для модели"
   ]
  },
  {
   "cell_type": "code",
   "execution_count": 24,
   "id": "f0526d93",
   "metadata": {},
   "outputs": [],
   "source": [
    "train_dataloader = DataLoader(\n",
    "    tokenized_datasets[\"train\"],\n",
    "    shuffle=True,\n",
    "    collate_fn=data_collator,\n",
    "    batch_size=8,\n",
    ")\n",
    "eval_dataloader = DataLoader(\n",
    "    tokenized_datasets[\"validation\"], collate_fn=data_collator, batch_size=8\n",
    ")"
   ]
  },
  {
   "cell_type": "code",
   "execution_count": 25,
   "id": "4643f31b",
   "metadata": {},
   "outputs": [],
   "source": [
    "def postprocess(predictions, labels):\n",
    "    predictions = predictions.detach().cpu().clone().numpy()\n",
    "    labels = labels.detach().cpu().clone().numpy()\n",
    "\n",
    "    # Remove ignored index (special tokens) and convert to labels\n",
    "    true_labels = [[label_names[l] for l in label if l != -100] for label in labels]\n",
    "    true_predictions = [\n",
    "        [label_names[p] for (p, l) in zip(prediction, label) if l != -100]\n",
    "        for prediction, label in zip(predictions, labels)\n",
    "    ]\n",
    "    return true_labels, true_predictions"
   ]
  },
  {
   "cell_type": "code",
   "execution_count": null,
   "id": "a6801477",
   "metadata": {},
   "outputs": [],
   "source": []
  },
  {
   "cell_type": "markdown",
   "id": "922935a9",
   "metadata": {},
   "source": [
    "#  Модель"
   ]
  },
  {
   "cell_type": "code",
   "execution_count": 26,
   "id": "57b7ab93",
   "metadata": {},
   "outputs": [],
   "source": [
    "id2label = {str(i): label for i, label in enumerate(label_names)}\n",
    "label2id = {v: k for k, v in id2label.items()}"
   ]
  },
  {
   "cell_type": "code",
   "execution_count": 37,
   "id": "9aec2aea",
   "metadata": {},
   "outputs": [],
   "source": [
    "num_warmup_steps = 0\n",
    "num_train_epochs = 3\n",
    "output_dir = './models'\n",
    "batch_size = 8"
   ]
  },
  {
   "cell_type": "code",
   "execution_count": 28,
   "id": "cc1bf2b6",
   "metadata": {},
   "outputs": [
    {
     "data": {
      "text/plain": [
       "'prajjwal1/bert-tiny'"
      ]
     },
     "execution_count": 28,
     "metadata": {},
     "output_type": "execute_result"
    }
   ],
   "source": [
    "model_checkpoint"
   ]
  },
  {
   "cell_type": "code",
   "execution_count": 29,
   "id": "344c0645",
   "metadata": {},
   "outputs": [
    {
     "name": "stderr",
     "output_type": "stream",
     "text": [
      "Some weights of the model checkpoint at prajjwal1/bert-tiny were not used when initializing BertForTokenClassification: ['cls.predictions.transform.LayerNorm.weight', 'cls.predictions.transform.LayerNorm.bias', 'cls.predictions.transform.dense.bias', 'cls.seq_relationship.bias', 'cls.predictions.decoder.weight', 'cls.predictions.decoder.bias', 'cls.predictions.transform.dense.weight', 'cls.predictions.bias', 'cls.seq_relationship.weight']\n",
      "- This IS expected if you are initializing BertForTokenClassification from the checkpoint of a model trained on another task or with another architecture (e.g. initializing a BertForSequenceClassification model from a BertForPreTraining model).\n",
      "- This IS NOT expected if you are initializing BertForTokenClassification from the checkpoint of a model that you expect to be exactly identical (initializing a BertForSequenceClassification model from a BertForSequenceClassification model).\n",
      "Some weights of BertForTokenClassification were not initialized from the model checkpoint at prajjwal1/bert-tiny and are newly initialized: ['classifier.bias', 'classifier.weight']\n",
      "You should probably TRAIN this model on a down-stream task to be able to use it for predictions and inference.\n"
     ]
    }
   ],
   "source": [
    "model = AutoModelForTokenClassification.from_pretrained(\n",
    "    model_checkpoint,\n",
    "    id2label=id2label,\n",
    "    label2id=label2id,\n",
    ")"
   ]
  },
  {
   "cell_type": "code",
   "execution_count": 30,
   "id": "00d07796",
   "metadata": {},
   "outputs": [
    {
     "data": {
      "text/plain": [
       "9"
      ]
     },
     "execution_count": 30,
     "metadata": {},
     "output_type": "execute_result"
    }
   ],
   "source": [
    "model.config.num_labels"
   ]
  },
  {
   "cell_type": "code",
   "execution_count": 31,
   "id": "f972b072",
   "metadata": {},
   "outputs": [],
   "source": [
    "optimizer = AdamW(model.parameters(), lr=2e-5)"
   ]
  },
  {
   "cell_type": "code",
   "execution_count": 32,
   "id": "11079e0f",
   "metadata": {},
   "outputs": [],
   "source": [
    "accelerator = Accelerator()\n",
    "model, optimizer, train_dataloader, eval_dataloader = accelerator.prepare(\n",
    "    model, optimizer, train_dataloader, eval_dataloader\n",
    ")"
   ]
  },
  {
   "cell_type": "code",
   "execution_count": 33,
   "id": "7ad15454",
   "metadata": {},
   "outputs": [],
   "source": [
    "num_update_steps_per_epoch = len(train_dataloader)\n",
    "num_training_steps = num_train_epochs * num_update_steps_per_epoch\n",
    "\n",
    "lr_scheduler = get_scheduler(\n",
    "    \"linear\",\n",
    "    optimizer=optimizer,\n",
    "    num_warmup_steps=num_warmup_steps,\n",
    "    num_training_steps=num_training_steps,\n",
    ")\n"
   ]
  },
  {
   "cell_type": "code",
   "execution_count": null,
   "id": "61689d89",
   "metadata": {},
   "outputs": [],
   "source": []
  },
  {
   "cell_type": "code",
   "execution_count": 42,
   "id": "dcce1b40",
   "metadata": {
    "scrolled": true
   },
   "outputs": [
    {
     "name": "stderr",
     "output_type": "stream",
     "text": [
      "\n",
      "  0%|                                                  | 0/5268 [00:00<?, ?it/s]\u001b[A\n",
      "  0%|                                          | 5/5268 [00:00<01:57, 44.93it/s]\u001b[A\n",
      "  0%|                                         | 10/5268 [00:00<02:09, 40.61it/s]\u001b[A\n",
      "  0%|                                         | 15/5268 [00:00<02:08, 40.98it/s]\u001b[A\n",
      "  0%|▏                                        | 20/5268 [00:00<02:07, 41.20it/s]\u001b[A\n",
      "  0%|▏                                        | 25/5268 [00:00<02:07, 41.10it/s]\u001b[A\n",
      "  1%|▏                                        | 30/5268 [00:00<02:07, 40.95it/s]\u001b[A\n",
      "  1%|▎                                        | 35/5268 [00:00<02:07, 41.14it/s]\u001b[A\n",
      "  1%|▎                                        | 40/5268 [00:00<02:05, 41.50it/s]\u001b[A\n",
      "  1%|▎                                        | 45/5268 [00:01<02:06, 41.38it/s]\u001b[A\n",
      "  1%|▍                                        | 50/5268 [00:01<02:06, 41.25it/s]\u001b[A\n",
      "  1%|▍                                        | 55/5268 [00:01<02:10, 39.83it/s]\u001b[A\n",
      "  1%|▍                                        | 59/5268 [00:01<02:14, 38.60it/s]\u001b[A\n",
      "  1%|▍                                        | 63/5268 [00:01<02:18, 37.46it/s]\u001b[A\n",
      "  1%|▌                                        | 67/5268 [00:01<02:23, 36.18it/s]\u001b[A\n",
      "  1%|▌                                        | 71/5268 [00:01<02:23, 36.27it/s]\u001b[A\n",
      "  1%|▌                                        | 75/5268 [00:01<02:19, 37.25it/s]\u001b[A\n",
      "  2%|▌                                        | 80/5268 [00:02<02:13, 38.85it/s]\u001b[A\n",
      "  2%|▋                                        | 85/5268 [00:02<02:10, 39.68it/s]\u001b[A\n",
      "  2%|▋                                        | 89/5268 [00:02<02:10, 39.65it/s]\u001b[A\n",
      "  2%|▋                                        | 94/5268 [00:02<02:08, 40.27it/s]\u001b[A\n",
      "  2%|▊                                        | 99/5268 [00:02<02:09, 40.06it/s]\u001b[A\n",
      "  2%|▊                                       | 104/5268 [00:02<02:14, 38.32it/s]\u001b[A\n",
      "  2%|▊                                       | 108/5268 [00:02<02:14, 38.42it/s]\u001b[A\n",
      "  2%|▊                                       | 113/5268 [00:02<02:11, 39.23it/s]\u001b[A\n",
      "  2%|▉                                       | 118/5268 [00:02<02:08, 39.92it/s]\u001b[A\n",
      "  2%|▉                                       | 123/5268 [00:03<02:06, 40.69it/s]\u001b[A\n",
      "  2%|▉                                       | 128/5268 [00:03<02:09, 39.76it/s]\u001b[A\n",
      "  3%|█                                       | 132/5268 [00:03<02:09, 39.61it/s]\u001b[A\n",
      "  3%|█                                       | 136/5268 [00:03<02:10, 39.39it/s]\u001b[A\n",
      "  3%|█                                       | 140/5268 [00:03<02:11, 39.01it/s]\u001b[A\n",
      "  3%|█                                       | 144/5268 [00:03<02:14, 38.17it/s]\u001b[A\n",
      "  3%|█▏                                      | 149/5268 [00:03<02:11, 39.01it/s]\u001b[A\n",
      "  3%|█▏                                      | 154/5268 [00:03<02:07, 40.02it/s]\u001b[A\n",
      "  3%|█▏                                      | 159/5268 [00:04<02:05, 40.66it/s]\u001b[A\n",
      "  3%|█▏                                      | 164/5268 [00:04<02:04, 41.08it/s]\u001b[A\n",
      "  3%|█▎                                      | 169/5268 [00:04<02:04, 40.94it/s]\u001b[A\n",
      "  3%|█▎                                      | 174/5268 [00:04<02:04, 40.99it/s]\u001b[A\n",
      "  3%|█▎                                      | 179/5268 [00:04<02:03, 41.11it/s]\u001b[A\n",
      "  3%|█▍                                      | 184/5268 [00:04<02:08, 39.53it/s]\u001b[A\n",
      "  4%|█▍                                      | 189/5268 [00:04<02:05, 40.33it/s]\u001b[A\n",
      "  4%|█▍                                      | 194/5268 [00:04<02:05, 40.46it/s]\u001b[A\n",
      "  4%|█▌                                      | 199/5268 [00:04<02:04, 40.79it/s]\u001b[A\n",
      "  4%|█▌                                      | 204/5268 [00:05<02:02, 41.18it/s]\u001b[A\n",
      "  4%|█▌                                      | 209/5268 [00:05<02:04, 40.75it/s]\u001b[A\n",
      "  4%|█▌                                      | 214/5268 [00:05<02:04, 40.48it/s]\u001b[A\n",
      "  4%|█▋                                      | 219/5268 [00:05<02:03, 40.88it/s]\u001b[A\n",
      "  4%|█▋                                      | 224/5268 [00:05<02:09, 38.88it/s]\u001b[A\n",
      "  4%|█▋                                      | 229/5268 [00:05<02:07, 39.51it/s]\u001b[A\n",
      "  4%|█▊                                      | 234/5268 [00:05<02:04, 40.31it/s]\u001b[A\n",
      "  5%|█▊                                      | 239/5268 [00:05<02:03, 40.73it/s]\u001b[A\n",
      "  5%|█▊                                      | 244/5268 [00:06<02:03, 40.71it/s]\u001b[A\n",
      "  5%|█▉                                      | 249/5268 [00:06<02:03, 40.56it/s]\u001b[A\n",
      "  5%|█▉                                      | 254/5268 [00:06<02:03, 40.70it/s]\u001b[A\n",
      "  5%|█▉                                      | 259/5268 [00:06<02:03, 40.68it/s]\u001b[A\n",
      "  5%|██                                      | 264/5268 [00:06<02:06, 39.51it/s]\u001b[A\n",
      "  5%|██                                      | 268/5268 [00:06<02:09, 38.70it/s]\u001b[A\n",
      "  5%|██                                      | 273/5268 [00:06<02:05, 39.72it/s]\u001b[A\n",
      "  5%|██                                      | 278/5268 [00:06<02:02, 40.63it/s]\u001b[A\n",
      "  5%|██▏                                     | 283/5268 [00:07<02:01, 40.95it/s]\u001b[A\n",
      "  5%|██▏                                     | 288/5268 [00:07<02:03, 40.37it/s]\u001b[A\n",
      "  6%|██▏                                     | 293/5268 [00:07<02:03, 40.27it/s]\u001b[A\n",
      "  6%|██▎                                     | 298/5268 [00:07<02:03, 40.19it/s]\u001b[A\n",
      "  6%|██▎                                     | 303/5268 [00:07<02:02, 40.47it/s]\u001b[A\n",
      "  6%|██▎                                     | 308/5268 [00:07<02:03, 40.07it/s]\u001b[A\n",
      "  6%|██▍                                     | 313/5268 [00:07<02:04, 39.92it/s]\u001b[A\n",
      "  6%|██▍                                     | 317/5268 [00:07<02:05, 39.50it/s]\u001b[A\n",
      "  6%|██▍                                     | 321/5268 [00:08<02:05, 39.41it/s]\u001b[A\n",
      "  6%|██▍                                     | 325/5268 [00:08<02:05, 39.54it/s]\u001b[A\n",
      "  6%|██▍                                     | 329/5268 [00:08<02:05, 39.35it/s]\u001b[A\n",
      "  6%|██▌                                     | 334/5268 [00:08<02:02, 40.40it/s]\u001b[A\n",
      "  6%|██▌                                     | 339/5268 [00:08<02:00, 40.95it/s]\u001b[A\n",
      "  7%|██▌                                     | 344/5268 [00:08<02:01, 40.41it/s]\u001b[A\n",
      "  7%|██▋                                     | 349/5268 [00:08<02:00, 40.71it/s]\u001b[A\n",
      "  7%|██▋                                     | 354/5268 [00:08<01:58, 41.30it/s]\u001b[A\n",
      "  7%|██▋                                     | 359/5268 [00:08<01:58, 41.28it/s]\u001b[A\n",
      "  7%|██▊                                     | 364/5268 [00:09<01:58, 41.34it/s]\u001b[A\n",
      "  7%|██▊                                     | 369/5268 [00:09<01:59, 41.16it/s]\u001b[A\n",
      "  7%|██▊                                     | 374/5268 [00:09<01:59, 41.08it/s]\u001b[A\n",
      "  7%|██▉                                     | 379/5268 [00:09<01:59, 41.02it/s]\u001b[A\n",
      "  7%|██▉                                     | 384/5268 [00:09<01:59, 40.92it/s]\u001b[A\n",
      "  7%|██▉                                     | 389/5268 [00:09<02:03, 39.53it/s]\u001b[A\n",
      "  7%|██▉                                     | 394/5268 [00:09<02:01, 40.16it/s]\u001b[A\n",
      "  8%|███                                     | 399/5268 [00:09<02:00, 40.50it/s]\u001b[A\n",
      "  8%|███                                     | 404/5268 [00:10<02:00, 40.46it/s]\u001b[A\n",
      "  8%|███                                     | 409/5268 [00:10<02:00, 40.16it/s]\u001b[A\n",
      "  8%|███▏                                    | 414/5268 [00:10<02:06, 38.42it/s]\u001b[A\n",
      "  8%|███▏                                    | 418/5268 [00:10<02:10, 37.17it/s]\u001b[A\n",
      "  8%|███▏                                    | 422/5268 [00:10<02:10, 37.04it/s]\u001b[A\n",
      "  8%|███▏                                    | 426/5268 [00:10<02:12, 36.66it/s]\u001b[A\n",
      "  8%|███▎                                    | 430/5268 [00:10<02:09, 37.43it/s]\u001b[A\n",
      "  8%|███▎                                    | 435/5268 [00:10<02:04, 38.90it/s]\u001b[A\n",
      "  8%|███▎                                    | 439/5268 [00:11<02:05, 38.48it/s]\u001b[A\n",
      "  8%|███▎                                    | 443/5268 [00:11<02:07, 37.94it/s]\u001b[A\n",
      "  8%|███▍                                    | 447/5268 [00:11<02:10, 36.85it/s]\u001b[A\n",
      "  9%|███▍                                    | 451/5268 [00:11<02:08, 37.58it/s]\u001b[A\n",
      "  9%|███▍                                    | 456/5268 [00:11<02:04, 38.67it/s]\u001b[A\n"
     ]
    },
    {
     "name": "stderr",
     "output_type": "stream",
     "text": [
      "  9%|███▍                                    | 460/5268 [00:11<02:04, 38.76it/s]\u001b[A\n",
      "  9%|███▌                                    | 464/5268 [00:11<02:05, 38.14it/s]\u001b[A\n",
      "  9%|███▌                                    | 469/5268 [00:11<02:02, 39.11it/s]\u001b[A\n",
      "  9%|███▌                                    | 474/5268 [00:11<01:59, 40.04it/s]\u001b[A\n",
      "  9%|███▋                                    | 479/5268 [00:12<01:57, 40.65it/s]\u001b[A\n",
      "  9%|███▋                                    | 484/5268 [00:12<01:56, 41.17it/s]\u001b[A\n",
      "  9%|███▋                                    | 489/5268 [00:12<01:56, 41.12it/s]\u001b[A\n",
      "  9%|███▊                                    | 494/5268 [00:12<01:56, 41.04it/s]\u001b[A\n",
      "  9%|███▊                                    | 499/5268 [00:12<01:58, 40.34it/s]\u001b[A\n",
      " 10%|███▊                                    | 504/5268 [00:12<02:01, 39.33it/s]\u001b[A\n",
      " 10%|███▊                                    | 508/5268 [00:12<02:01, 39.31it/s]\u001b[A\n",
      " 10%|███▉                                    | 512/5268 [00:12<02:01, 39.28it/s]\u001b[A\n",
      " 10%|███▉                                    | 516/5268 [00:12<02:01, 39.17it/s]\u001b[A\n",
      " 10%|███▉                                    | 521/5268 [00:13<01:59, 39.88it/s]\u001b[A\n",
      " 10%|███▉                                    | 526/5268 [00:13<01:58, 39.95it/s]\u001b[A\n",
      " 10%|████                                    | 531/5268 [00:13<01:57, 40.26it/s]\u001b[A\n",
      " 10%|████                                    | 536/5268 [00:13<01:57, 40.40it/s]\u001b[A\n",
      " 10%|████                                    | 541/5268 [00:13<01:56, 40.59it/s]\u001b[A\n",
      " 10%|████▏                                   | 546/5268 [00:13<01:57, 40.11it/s]\u001b[A\n",
      " 10%|████▏                                   | 551/5268 [00:13<01:56, 40.63it/s]\u001b[A\n",
      " 11%|████▏                                   | 556/5268 [00:13<01:56, 40.49it/s]\u001b[A\n",
      " 11%|████▎                                   | 561/5268 [00:14<01:55, 40.92it/s]\u001b[A\n",
      " 11%|████▎                                   | 566/5268 [00:14<01:54, 41.17it/s]\u001b[A\n",
      " 11%|████▎                                   | 571/5268 [00:14<01:54, 40.98it/s]\u001b[A\n",
      " 11%|████▎                                   | 576/5268 [00:14<01:53, 41.27it/s]\u001b[A\n",
      " 11%|████▍                                   | 581/5268 [00:14<01:52, 41.55it/s]\u001b[A\n",
      " 11%|████▍                                   | 586/5268 [00:14<01:52, 41.63it/s]\u001b[A\n",
      " 11%|████▍                                   | 591/5268 [00:14<01:52, 41.67it/s]\u001b[A\n",
      " 11%|████▌                                   | 596/5268 [00:14<01:51, 41.72it/s]\u001b[A\n",
      " 11%|████▌                                   | 601/5268 [00:15<01:51, 41.82it/s]\u001b[A\n",
      " 12%|████▌                                   | 606/5268 [00:15<01:52, 41.56it/s]\u001b[A\n",
      " 12%|████▋                                   | 611/5268 [00:15<01:53, 41.00it/s]\u001b[A\n",
      " 12%|████▋                                   | 616/5268 [00:15<01:52, 41.43it/s]\u001b[A\n",
      " 12%|████▋                                   | 621/5268 [00:15<01:53, 41.03it/s]\u001b[A\n",
      " 12%|████▊                                   | 626/5268 [00:15<01:54, 40.51it/s]\u001b[A\n",
      " 12%|████▊                                   | 631/5268 [00:15<01:53, 40.75it/s]\u001b[A\n",
      " 12%|████▊                                   | 636/5268 [00:15<01:53, 40.73it/s]\u001b[A\n",
      " 12%|████▊                                   | 641/5268 [00:16<01:52, 41.28it/s]\u001b[A\n",
      " 12%|████▉                                   | 646/5268 [00:16<01:51, 41.36it/s]\u001b[A\n",
      " 12%|████▉                                   | 651/5268 [00:16<01:52, 41.21it/s]\u001b[A\n",
      " 12%|████▉                                   | 656/5268 [00:16<01:51, 41.53it/s]\u001b[A\n",
      " 13%|█████                                   | 661/5268 [00:16<01:50, 41.67it/s]\u001b[A\n",
      " 13%|█████                                   | 666/5268 [00:16<01:54, 40.16it/s]\u001b[A\n",
      " 13%|█████                                   | 671/5268 [00:16<01:55, 39.91it/s]\u001b[A\n",
      " 13%|█████▏                                  | 676/5268 [00:16<01:53, 40.56it/s]\u001b[A\n",
      " 13%|█████▏                                  | 681/5268 [00:16<01:51, 41.09it/s]\u001b[A\n",
      " 13%|█████▏                                  | 686/5268 [00:17<01:50, 41.28it/s]\u001b[A\n",
      " 13%|█████▏                                  | 691/5268 [00:17<01:52, 40.80it/s]\u001b[A\n",
      " 13%|█████▎                                  | 696/5268 [00:17<01:51, 40.91it/s]\u001b[A\n",
      " 13%|█████▎                                  | 701/5268 [00:17<01:50, 41.41it/s]\u001b[A\n",
      " 13%|█████▎                                  | 706/5268 [00:17<01:49, 41.66it/s]\u001b[A\n",
      " 13%|█████▍                                  | 711/5268 [00:17<01:53, 40.26it/s]\u001b[A\n",
      " 14%|█████▍                                  | 716/5268 [00:17<01:53, 40.08it/s]\u001b[A\n",
      " 14%|█████▍                                  | 721/5268 [00:17<01:58, 38.38it/s]\u001b[A\n",
      " 14%|█████▌                                  | 725/5268 [00:18<01:57, 38.61it/s]\u001b[A\n",
      " 14%|█████▌                                  | 730/5268 [00:18<01:56, 38.80it/s]\u001b[A\n",
      " 14%|█████▌                                  | 734/5268 [00:18<02:01, 37.36it/s]\u001b[A\n",
      " 14%|█████▌                                  | 738/5268 [00:18<02:06, 35.78it/s]\u001b[A\n",
      " 14%|█████▋                                  | 743/5268 [00:18<02:02, 37.05it/s]\u001b[A\n",
      " 14%|█████▋                                  | 747/5268 [00:18<01:59, 37.79it/s]\u001b[A\n",
      " 14%|█████▋                                  | 752/5268 [00:18<01:55, 38.95it/s]\u001b[A\n",
      " 14%|█████▋                                  | 757/5268 [00:18<01:53, 39.64it/s]\u001b[A\n",
      " 14%|█████▊                                  | 762/5268 [00:19<01:51, 40.29it/s]\u001b[A\n",
      " 15%|█████▊                                  | 767/5268 [00:19<01:51, 40.30it/s]\u001b[A\n",
      " 15%|█████▊                                  | 772/5268 [00:19<01:53, 39.77it/s]\u001b[A\n",
      " 15%|█████▉                                  | 776/5268 [00:19<01:55, 38.79it/s]\u001b[A\n",
      " 15%|█████▉                                  | 780/5268 [00:19<01:56, 38.37it/s]\u001b[A\n",
      " 15%|█████▉                                  | 784/5268 [00:19<02:03, 36.40it/s]\u001b[A\n",
      " 15%|█████▉                                  | 789/5268 [00:19<01:57, 38.22it/s]\u001b[A\n",
      " 15%|██████                                  | 794/5268 [00:19<01:54, 39.17it/s]\u001b[A\n",
      " 15%|██████                                  | 799/5268 [00:20<01:52, 39.82it/s]\u001b[A\n",
      " 15%|██████                                  | 804/5268 [00:20<01:50, 40.22it/s]\u001b[A\n",
      " 15%|██████▏                                 | 809/5268 [00:20<01:52, 39.52it/s]\u001b[A\n",
      " 15%|██████▏                                 | 813/5268 [00:20<01:52, 39.61it/s]\u001b[A\n",
      " 16%|██████▏                                 | 817/5268 [00:20<01:52, 39.60it/s]\u001b[A\n",
      " 16%|██████▏                                 | 821/5268 [00:20<01:52, 39.38it/s]\u001b[A\n",
      " 16%|██████▎                                 | 825/5268 [00:20<01:55, 38.32it/s]\u001b[A\n",
      " 16%|██████▎                                 | 829/5268 [00:20<01:55, 38.57it/s]\u001b[A\n",
      " 16%|██████▎                                 | 834/5268 [00:20<01:52, 39.40it/s]\u001b[A\n",
      " 16%|██████▎                                 | 838/5268 [00:20<01:52, 39.43it/s]\u001b[A\n",
      " 16%|██████▍                                 | 842/5268 [00:21<01:53, 39.13it/s]\u001b[A\n",
      " 16%|██████▍                                 | 846/5268 [00:21<01:53, 39.02it/s]\u001b[A\n",
      " 16%|██████▍                                 | 851/5268 [00:21<01:51, 39.68it/s]\u001b[A\n",
      " 16%|██████▍                                 | 856/5268 [00:21<01:50, 40.09it/s]\u001b[A\n",
      " 16%|██████▌                                 | 861/5268 [00:21<01:48, 40.70it/s]\u001b[A\n",
      " 16%|██████▌                                 | 866/5268 [00:21<01:50, 40.00it/s]\u001b[A\n",
      " 17%|██████▌                                 | 871/5268 [00:21<01:51, 39.49it/s]\u001b[A\n",
      " 17%|██████▋                                 | 876/5268 [00:21<01:49, 40.22it/s]\u001b[A\n",
      " 17%|██████▋                                 | 881/5268 [00:22<01:48, 40.59it/s]\u001b[A\n",
      " 17%|██████▋                                 | 886/5268 [00:22<01:45, 41.47it/s]\u001b[A\n",
      " 17%|██████▊                                 | 891/5268 [00:22<01:46, 41.09it/s]\u001b[A\n",
      " 17%|██████▊                                 | 896/5268 [00:22<01:45, 41.29it/s]\u001b[A\n",
      " 17%|██████▊                                 | 901/5268 [00:22<01:46, 41.12it/s]\u001b[A\n",
      " 17%|██████▉                                 | 906/5268 [00:22<01:49, 39.79it/s]\u001b[A\n",
      " 17%|██████▉                                 | 910/5268 [00:22<01:50, 39.56it/s]\u001b[A\n",
      " 17%|██████▉                                 | 914/5268 [00:22<01:54, 38.02it/s]\u001b[A\n",
      " 17%|██████▉                                 | 918/5268 [00:23<01:57, 37.01it/s]\u001b[A\n"
     ]
    },
    {
     "name": "stderr",
     "output_type": "stream",
     "text": [
      " 18%|███████                                 | 922/5268 [00:23<01:56, 37.16it/s]\u001b[A\n",
      " 18%|███████                                 | 926/5268 [00:23<01:54, 37.85it/s]\u001b[A\n",
      " 18%|███████                                 | 931/5268 [00:23<01:51, 38.74it/s]\u001b[A\n",
      " 18%|███████                                 | 935/5268 [00:23<01:53, 38.19it/s]\u001b[A\n",
      " 18%|███████▏                                | 939/5268 [00:23<01:59, 36.09it/s]\u001b[A\n",
      " 18%|███████▏                                | 943/5268 [00:23<02:00, 35.95it/s]\u001b[A\n",
      " 18%|███████▏                                | 948/5268 [00:23<01:53, 38.00it/s]\u001b[A\n",
      " 18%|███████▏                                | 952/5268 [00:23<01:52, 38.44it/s]\u001b[A\n",
      " 18%|███████▎                                | 957/5268 [00:24<01:49, 39.47it/s]\u001b[A\n",
      " 18%|███████▎                                | 962/5268 [00:24<01:47, 40.04it/s]\u001b[A\n",
      " 18%|███████▎                                | 967/5268 [00:24<01:47, 40.09it/s]\u001b[A\n",
      " 18%|███████▍                                | 972/5268 [00:24<01:46, 40.36it/s]\u001b[A\n",
      " 19%|███████▍                                | 977/5268 [00:24<01:46, 40.43it/s]\u001b[A\n",
      " 19%|███████▍                                | 982/5268 [00:24<01:48, 39.42it/s]\u001b[A\n",
      " 19%|███████▍                                | 987/5268 [00:24<01:46, 40.10it/s]\u001b[A\n",
      " 19%|███████▌                                | 992/5268 [00:24<01:45, 40.72it/s]\u001b[A\n",
      " 19%|███████▌                                | 997/5268 [00:25<01:52, 37.87it/s]\u001b[A\n",
      " 19%|███████▍                               | 1001/5268 [00:25<01:56, 36.70it/s]\u001b[A\n",
      " 19%|███████▍                               | 1005/5268 [00:25<01:53, 37.46it/s]\u001b[A\n",
      " 19%|███████▍                               | 1010/5268 [00:25<01:49, 38.76it/s]\u001b[A\n",
      " 19%|███████▌                               | 1014/5268 [00:25<01:49, 38.82it/s]\u001b[A\n",
      " 19%|███████▌                               | 1019/5268 [00:25<01:48, 39.07it/s]\u001b[A\n",
      " 19%|███████▌                               | 1023/5268 [00:25<01:49, 38.71it/s]\u001b[A\n",
      " 19%|███████▌                               | 1027/5268 [00:25<01:48, 38.95it/s]\u001b[A\n",
      " 20%|███████▋                               | 1032/5268 [00:25<01:44, 40.54it/s]\u001b[A\n",
      " 20%|███████▋                               | 1037/5268 [00:26<01:46, 39.76it/s]\u001b[A\n",
      " 20%|███████▋                               | 1042/5268 [00:26<01:44, 40.30it/s]\u001b[A\n",
      " 20%|███████▊                               | 1047/5268 [00:26<01:44, 40.45it/s]\u001b[A\n",
      " 20%|███████▊                               | 1052/5268 [00:26<01:44, 40.28it/s]\u001b[A\n",
      " 20%|███████▊                               | 1057/5268 [00:26<01:45, 40.09it/s]\u001b[A\n",
      " 20%|███████▊                               | 1062/5268 [00:26<01:45, 39.81it/s]\u001b[A\n",
      " 20%|███████▉                               | 1067/5268 [00:26<01:43, 40.44it/s]\u001b[A\n",
      " 20%|███████▉                               | 1072/5268 [00:26<01:43, 40.38it/s]\u001b[A\n",
      " 20%|███████▉                               | 1077/5268 [00:27<01:42, 40.86it/s]\u001b[A\n",
      " 21%|████████                               | 1082/5268 [00:27<01:42, 40.99it/s]\u001b[A\n",
      " 21%|████████                               | 1087/5268 [00:27<01:42, 40.82it/s]\u001b[A\n",
      " 21%|████████                               | 1092/5268 [00:27<01:41, 41.10it/s]\u001b[A\n",
      " 21%|████████                               | 1097/5268 [00:27<01:41, 41.29it/s]\u001b[A\n",
      " 21%|████████▏                              | 1102/5268 [00:27<01:43, 40.24it/s]\u001b[A\n",
      " 21%|████████▏                              | 1107/5268 [00:27<01:42, 40.42it/s]\u001b[A\n",
      " 21%|████████▏                              | 1112/5268 [00:27<01:42, 40.59it/s]\u001b[A\n",
      " 21%|████████▎                              | 1117/5268 [00:28<01:40, 41.23it/s]\u001b[A\n",
      " 21%|████████▎                              | 1122/5268 [00:28<01:40, 41.25it/s]\u001b[A\n",
      " 21%|████████▎                              | 1127/5268 [00:28<01:40, 41.03it/s]\u001b[A\n",
      " 21%|████████▍                              | 1132/5268 [00:28<01:40, 41.17it/s]\u001b[A\n",
      " 22%|████████▍                              | 1137/5268 [00:28<01:47, 38.54it/s]\u001b[A\n",
      " 22%|████████▍                              | 1141/5268 [00:28<01:52, 36.55it/s]\u001b[A\n",
      " 22%|████████▍                              | 1146/5268 [00:28<01:48, 37.92it/s]\u001b[A\n",
      " 22%|████████▌                              | 1151/5268 [00:28<01:45, 38.95it/s]\u001b[A\n",
      " 22%|████████▌                              | 1155/5268 [00:29<01:46, 38.54it/s]\u001b[A\n",
      " 22%|████████▌                              | 1160/5268 [00:29<01:44, 39.33it/s]\u001b[A\n",
      " 22%|████████▌                              | 1164/5268 [00:29<01:45, 38.88it/s]\u001b[A\n",
      " 22%|████████▋                              | 1169/5268 [00:29<01:43, 39.72it/s]\u001b[A\n",
      " 22%|████████▋                              | 1174/5268 [00:29<01:42, 39.98it/s]\u001b[A\n",
      " 22%|████████▋                              | 1178/5268 [00:29<01:46, 38.36it/s]\u001b[A\n",
      " 22%|████████▊                              | 1182/5268 [00:29<01:51, 36.69it/s]\u001b[A\n",
      " 23%|████████▊                              | 1186/5268 [00:29<01:53, 35.81it/s]\u001b[A\n",
      " 23%|████████▊                              | 1190/5268 [00:29<01:50, 36.80it/s]\u001b[A\n",
      " 23%|████████▊                              | 1195/5268 [00:30<01:45, 38.54it/s]\u001b[A\n",
      " 23%|████████▉                              | 1200/5268 [00:30<01:42, 39.66it/s]\u001b[A\n",
      " 23%|████████▉                              | 1205/5268 [00:30<01:41, 39.92it/s]\u001b[A\n",
      " 23%|████████▉                              | 1209/5268 [00:30<01:41, 39.92it/s]\u001b[A\n",
      " 23%|████████▉                              | 1213/5268 [00:30<01:42, 39.71it/s]\u001b[A\n",
      " 23%|█████████                              | 1217/5268 [00:30<01:43, 39.06it/s]\u001b[A\n",
      " 23%|█████████                              | 1221/5268 [00:30<01:44, 38.71it/s]\u001b[A\n",
      " 23%|█████████                              | 1226/5268 [00:30<01:42, 39.59it/s]\u001b[A\n",
      " 23%|█████████                              | 1230/5268 [00:30<01:44, 38.80it/s]\u001b[A\n",
      " 23%|█████████▏                             | 1234/5268 [00:31<01:47, 37.53it/s]\u001b[A\n",
      " 24%|█████████▏                             | 1239/5268 [00:31<01:45, 38.31it/s]\u001b[A\n",
      " 24%|█████████▏                             | 1243/5268 [00:31<01:49, 36.62it/s]\u001b[A\n",
      " 24%|█████████▏                             | 1247/5268 [00:31<01:52, 35.59it/s]\u001b[A\n",
      " 24%|█████████▎                             | 1252/5268 [00:31<01:47, 37.22it/s]\u001b[A\n",
      " 24%|█████████▎                             | 1256/5268 [00:31<01:51, 35.84it/s]\u001b[A\n",
      " 24%|█████████▎                             | 1260/5268 [00:31<01:53, 35.32it/s]\u001b[A\n",
      " 24%|█████████▎                             | 1264/5268 [00:31<01:50, 36.36it/s]\u001b[A\n",
      " 24%|█████████▍                             | 1268/5268 [00:32<01:50, 36.06it/s]\u001b[A\n",
      " 24%|█████████▍                             | 1272/5268 [00:32<01:53, 35.06it/s]\u001b[A\n",
      " 24%|█████████▍                             | 1276/5268 [00:32<01:54, 34.99it/s]\u001b[A\n",
      " 24%|█████████▍                             | 1281/5268 [00:32<01:47, 36.92it/s]\u001b[A\n",
      " 24%|█████████▌                             | 1285/5268 [00:32<01:51, 35.78it/s]\u001b[A\n",
      " 24%|█████████▌                             | 1289/5268 [00:32<01:55, 34.51it/s]\u001b[A\n",
      " 25%|█████████▌                             | 1294/5268 [00:32<01:48, 36.52it/s]\u001b[A\n",
      " 25%|█████████▌                             | 1298/5268 [00:32<01:48, 36.47it/s]\u001b[A\n",
      " 25%|█████████▋                             | 1302/5268 [00:32<01:49, 36.06it/s]\u001b[A\n",
      " 25%|█████████▋                             | 1307/5268 [00:33<01:44, 38.00it/s]\u001b[A\n",
      " 25%|█████████▋                             | 1311/5268 [00:33<01:46, 36.99it/s]\u001b[A\n",
      " 25%|█████████▋                             | 1315/5268 [00:33<01:50, 35.81it/s]\u001b[A\n",
      " 25%|█████████▊                             | 1320/5268 [00:33<01:45, 37.45it/s]\u001b[A\n",
      " 25%|█████████▊                             | 1324/5268 [00:33<01:49, 35.93it/s]\u001b[A\n",
      " 25%|█████████▊                             | 1328/5268 [00:33<01:52, 35.10it/s]\u001b[A\n",
      " 25%|█████████▊                             | 1332/5268 [00:33<01:51, 35.46it/s]\u001b[A\n",
      " 25%|█████████▉                             | 1337/5268 [00:33<01:45, 37.41it/s]\u001b[A\n",
      " 25%|█████████▉                             | 1341/5268 [00:34<01:45, 37.17it/s]\u001b[A\n",
      " 26%|█████████▉                             | 1345/5268 [00:34<01:47, 36.55it/s]\u001b[A\n",
      " 26%|█████████▉                             | 1349/5268 [00:34<01:49, 35.67it/s]\u001b[A\n",
      " 26%|██████████                             | 1353/5268 [00:34<01:47, 36.37it/s]\u001b[A\n",
      " 26%|██████████                             | 1357/5268 [00:34<01:48, 36.05it/s]\u001b[A\n"
     ]
    },
    {
     "name": "stderr",
     "output_type": "stream",
     "text": [
      " 26%|██████████                             | 1361/5268 [00:34<01:51, 35.10it/s]\u001b[A\n",
      " 26%|██████████                             | 1365/5268 [00:34<01:50, 35.40it/s]\u001b[A\n",
      " 26%|██████████▏                            | 1369/5268 [00:34<01:50, 35.13it/s]\u001b[A\n",
      " 26%|██████████▏                            | 1373/5268 [00:34<01:50, 35.20it/s]\u001b[A\n",
      " 26%|██████████▏                            | 1377/5268 [00:35<01:46, 36.46it/s]\u001b[A\n",
      " 26%|██████████▏                            | 1381/5268 [00:35<01:48, 35.79it/s]\u001b[A\n",
      " 26%|██████████▎                            | 1385/5268 [00:35<01:49, 35.51it/s]\u001b[A\n",
      " 26%|██████████▎                            | 1389/5268 [00:35<01:47, 36.09it/s]\u001b[A\n",
      " 26%|██████████▎                            | 1393/5268 [00:35<01:49, 35.36it/s]\u001b[A\n",
      " 27%|██████████▎                            | 1397/5268 [00:35<01:50, 34.98it/s]\u001b[A\n",
      " 27%|██████████▎                            | 1401/5268 [00:35<01:48, 35.66it/s]\u001b[A\n",
      " 27%|██████████▍                            | 1405/5268 [00:35<01:50, 34.89it/s]\u001b[A\n",
      " 27%|██████████▍                            | 1409/5268 [00:35<01:50, 35.03it/s]\u001b[A\n",
      " 27%|██████████▍                            | 1414/5268 [00:36<01:44, 36.95it/s]\u001b[A\n",
      " 27%|██████████▍                            | 1418/5268 [00:36<01:42, 37.58it/s]\u001b[A\n",
      " 27%|██████████▌                            | 1422/5268 [00:36<01:47, 35.70it/s]\u001b[A\n",
      " 27%|██████████▌                            | 1426/5268 [00:36<01:50, 34.68it/s]\u001b[A\n",
      " 27%|██████████▌                            | 1430/5268 [00:36<01:48, 35.25it/s]\u001b[A\n",
      " 27%|██████████▌                            | 1434/5268 [00:36<01:47, 35.62it/s]\u001b[A\n",
      " 27%|██████████▋                            | 1439/5268 [00:36<01:42, 37.49it/s]\u001b[A\n",
      " 27%|██████████▋                            | 1443/5268 [00:36<01:43, 36.83it/s]\u001b[A\n",
      " 27%|██████████▋                            | 1447/5268 [00:36<01:46, 35.81it/s]\u001b[A\n",
      " 28%|██████████▋                            | 1451/5268 [00:37<01:46, 35.93it/s]\u001b[A\n",
      " 28%|██████████▊                            | 1456/5268 [00:37<01:41, 37.37it/s]\u001b[A\n",
      " 28%|██████████▊                            | 1461/5268 [00:37<01:38, 38.64it/s]\u001b[A\n",
      " 28%|██████████▊                            | 1466/5268 [00:37<01:36, 39.51it/s]\u001b[A\n",
      " 28%|██████████▉                            | 1470/5268 [00:37<01:36, 39.55it/s]\u001b[A\n",
      " 28%|██████████▉                            | 1474/5268 [00:37<01:37, 39.01it/s]\u001b[A\n",
      " 28%|██████████▉                            | 1479/5268 [00:37<01:35, 39.79it/s]\u001b[A\n",
      " 28%|██████████▉                            | 1484/5268 [00:37<01:33, 40.68it/s]\u001b[A\n",
      " 28%|███████████                            | 1489/5268 [00:38<01:33, 40.34it/s]\u001b[A\n",
      " 28%|███████████                            | 1494/5268 [00:38<01:33, 40.55it/s]\u001b[A\n",
      " 28%|███████████                            | 1499/5268 [00:38<01:33, 40.36it/s]\u001b[A\n",
      " 29%|███████████▏                           | 1504/5268 [00:38<01:31, 41.03it/s]\u001b[A\n",
      " 29%|███████████▏                           | 1509/5268 [00:38<01:33, 40.26it/s]\u001b[A\n",
      " 29%|███████████▏                           | 1514/5268 [00:38<01:35, 39.45it/s]\u001b[A\n",
      " 29%|███████████▏                           | 1518/5268 [00:38<01:34, 39.56it/s]\u001b[A\n",
      " 29%|███████████▎                           | 1522/5268 [00:38<01:35, 39.22it/s]\u001b[A\n",
      " 29%|███████████▎                           | 1527/5268 [00:38<01:33, 40.16it/s]\u001b[A\n",
      " 29%|███████████▎                           | 1532/5268 [00:39<01:34, 39.69it/s]\u001b[A\n",
      " 29%|███████████▎                           | 1536/5268 [00:39<01:38, 38.03it/s]\u001b[A\n",
      " 29%|███████████▍                           | 1541/5268 [00:39<01:35, 38.94it/s]\u001b[A\n",
      " 29%|███████████▍                           | 1546/5268 [00:39<01:32, 40.17it/s]\u001b[A\n",
      " 29%|███████████▍                           | 1551/5268 [00:39<01:34, 39.51it/s]\u001b[A\n",
      " 30%|███████████▌                           | 1556/5268 [00:39<01:32, 40.17it/s]\u001b[A\n",
      " 30%|███████████▌                           | 1561/5268 [00:39<01:31, 40.61it/s]\u001b[A\n",
      " 30%|███████████▌                           | 1566/5268 [00:39<01:30, 40.74it/s]\u001b[A\n",
      " 30%|███████████▋                           | 1571/5268 [00:40<01:30, 40.76it/s]\u001b[A\n",
      " 30%|███████████▋                           | 1576/5268 [00:40<01:34, 39.01it/s]\u001b[A\n",
      " 30%|███████████▋                           | 1581/5268 [00:40<01:32, 39.99it/s]\u001b[A\n",
      " 30%|███████████▋                           | 1586/5268 [00:40<01:32, 39.78it/s]\u001b[A\n",
      " 30%|███████████▊                           | 1591/5268 [00:40<01:31, 40.28it/s]\u001b[A\n",
      " 30%|███████████▊                           | 1596/5268 [00:40<01:34, 38.91it/s]\u001b[A\n",
      " 30%|███████████▊                           | 1601/5268 [00:40<01:31, 39.88it/s]\u001b[A\n",
      " 30%|███████████▉                           | 1606/5268 [00:40<01:30, 40.49it/s]\u001b[A\n",
      " 31%|███████████▉                           | 1611/5268 [00:41<01:31, 40.07it/s]\u001b[A\n",
      " 31%|███████████▉                           | 1616/5268 [00:41<01:32, 39.54it/s]\u001b[A\n",
      " 31%|████████████                           | 1621/5268 [00:41<01:31, 39.77it/s]\u001b[A\n",
      " 31%|████████████                           | 1626/5268 [00:41<01:30, 40.43it/s]\u001b[A\n",
      " 31%|████████████                           | 1631/5268 [00:41<01:31, 39.79it/s]\u001b[A\n",
      " 31%|████████████                           | 1635/5268 [00:41<01:32, 39.10it/s]\u001b[A\n",
      " 31%|████████████▏                          | 1639/5268 [00:41<01:36, 37.80it/s]\u001b[A\n",
      " 31%|████████████▏                          | 1644/5268 [00:41<01:33, 38.88it/s]\u001b[A\n",
      " 31%|████████████▏                          | 1648/5268 [00:42<01:33, 38.72it/s]\u001b[A\n",
      " 31%|████████████▏                          | 1652/5268 [00:42<01:35, 38.03it/s]\u001b[A\n",
      " 31%|████████████▎                          | 1656/5268 [00:42<01:33, 38.44it/s]\u001b[A\n",
      " 32%|████████████▎                          | 1661/5268 [00:42<01:30, 39.86it/s]\u001b[A\n",
      " 32%|████████████▎                          | 1666/5268 [00:42<01:29, 40.30it/s]\u001b[A\n",
      " 32%|████████████▎                          | 1671/5268 [00:42<01:29, 40.35it/s]\u001b[A\n",
      " 32%|████████████▍                          | 1676/5268 [00:42<01:28, 40.61it/s]\u001b[A\n",
      " 32%|████████████▍                          | 1681/5268 [00:42<01:27, 40.94it/s]\u001b[A\n",
      " 32%|████████████▍                          | 1686/5268 [00:42<01:27, 40.81it/s]\u001b[A\n",
      " 32%|████████████▌                          | 1691/5268 [00:43<01:30, 39.37it/s]\u001b[A\n",
      " 32%|████████████▌                          | 1695/5268 [00:43<01:31, 38.93it/s]\u001b[A\n",
      " 32%|████████████▌                          | 1699/5268 [00:43<01:31, 39.07it/s]\u001b[A\n",
      " 32%|████████████▌                          | 1703/5268 [00:43<01:31, 39.16it/s]\u001b[A\n",
      " 32%|████████████▋                          | 1707/5268 [00:43<01:32, 38.53it/s]\u001b[A\n",
      " 32%|████████████▋                          | 1711/5268 [00:43<01:35, 37.41it/s]\u001b[A\n",
      " 33%|████████████▋                          | 1716/5268 [00:43<01:31, 38.73it/s]\u001b[A\n",
      " 33%|████████████▋                          | 1721/5268 [00:43<01:28, 39.87it/s]\u001b[A\n",
      " 33%|████████████▊                          | 1726/5268 [00:44<01:27, 40.35it/s]\u001b[A\n",
      " 33%|████████████▊                          | 1731/5268 [00:44<01:27, 40.35it/s]\u001b[A\n",
      " 33%|████████████▊                          | 1736/5268 [00:44<01:30, 39.02it/s]\u001b[A\n",
      " 33%|████████████▉                          | 1741/5268 [00:44<01:28, 39.93it/s]\u001b[A\n",
      " 33%|████████████▉                          | 1746/5268 [00:44<01:28, 39.74it/s]\u001b[A\n",
      " 33%|████████████▉                          | 1750/5268 [00:44<01:31, 38.27it/s]\u001b[A\n",
      " 33%|████████████▉                          | 1754/5268 [00:44<01:33, 37.58it/s]\u001b[A\n",
      " 33%|█████████████                          | 1758/5268 [00:47<14:17,  4.09it/s]\u001b[A"
     ]
    },
    {
     "name": "stdout",
     "output_type": "stream",
     "text": [
      "epoch 0: {'precision': 0.629585997980478, 'recall': 0.5591928251121077, 'f1': 0.5923052564914503, 'accuracy': 0.919424277566842}\n"
     ]
    },
    {
     "name": "stderr",
     "output_type": "stream",
     "text": [
      "\n",
      " 33%|█████████████                          | 1762/5268 [00:48<10:41,  5.47it/s]\u001b[A\n",
      " 34%|█████████████                          | 1766/5268 [00:48<08:04,  7.23it/s]\u001b[A\n",
      " 34%|█████████████                          | 1771/5268 [00:48<05:47, 10.06it/s]\u001b[A\n",
      " 34%|█████████████▏                         | 1776/5268 [00:48<04:20, 13.39it/s]\u001b[A\n",
      " 34%|█████████████▏                         | 1780/5268 [00:48<03:35, 16.22it/s]\u001b[A\n",
      " 34%|█████████████▏                         | 1784/5268 [00:48<03:01, 19.15it/s]\u001b[A\n",
      " 34%|█████████████▏                         | 1788/5268 [00:48<02:36, 22.18it/s]\u001b[A\n",
      " 34%|█████████████▎                         | 1792/5268 [00:48<02:16, 25.38it/s]\u001b[A\n",
      " 34%|█████████████▎                         | 1796/5268 [00:48<02:03, 28.16it/s]\u001b[A\n",
      " 34%|█████████████▎                         | 1800/5268 [00:49<01:52, 30.78it/s]\u001b[A\n",
      " 34%|█████████████▎                         | 1805/5268 [00:49<01:43, 33.41it/s]\u001b[A\n",
      " 34%|█████████████▍                         | 1810/5268 [00:49<01:36, 35.75it/s]\u001b[A\n",
      " 34%|█████████████▍                         | 1814/5268 [00:49<01:34, 36.73it/s]\u001b[A\n",
      " 35%|█████████████▍                         | 1818/5268 [00:49<01:32, 37.49it/s]\u001b[A\n",
      " 35%|█████████████▍                         | 1822/5268 [00:49<01:34, 36.49it/s]\u001b[A\n",
      " 35%|█████████████▌                         | 1826/5268 [00:49<01:34, 36.59it/s]\u001b[A\n",
      " 35%|█████████████▌                         | 1831/5268 [00:49<01:29, 38.42it/s]\u001b[A\n",
      " 35%|█████████████▌                         | 1836/5268 [00:49<01:26, 39.51it/s]\u001b[A\n",
      " 35%|█████████████▋                         | 1841/5268 [00:50<01:24, 40.32it/s]\u001b[A\n",
      " 35%|█████████████▋                         | 1846/5268 [00:50<01:24, 40.36it/s]\u001b[A\n",
      " 35%|█████████████▋                         | 1851/5268 [00:50<01:23, 40.79it/s]\u001b[A\n",
      " 35%|█████████████▋                         | 1856/5268 [00:50<01:25, 39.74it/s]\u001b[A\n",
      " 35%|█████████████▊                         | 1860/5268 [00:50<01:26, 39.24it/s]\u001b[A\n",
      " 35%|█████████████▊                         | 1864/5268 [00:50<01:28, 38.43it/s]\u001b[A\n",
      " 35%|█████████████▊                         | 1868/5268 [00:50<01:27, 38.81it/s]\u001b[A\n",
      " 36%|█████████████▊                         | 1873/5268 [00:50<01:26, 39.23it/s]\u001b[A\n",
      " 36%|█████████████▉                         | 1877/5268 [00:51<01:26, 39.03it/s]\u001b[A\n",
      " 36%|█████████████▉                         | 1881/5268 [00:51<01:27, 38.78it/s]\u001b[A\n",
      " 36%|█████████████▉                         | 1885/5268 [00:51<01:27, 38.48it/s]\u001b[A\n",
      " 36%|█████████████▉                         | 1890/5268 [00:51<01:24, 39.91it/s]\u001b[A\n",
      " 36%|██████████████                         | 1895/5268 [00:51<01:23, 40.60it/s]\u001b[A\n",
      " 36%|██████████████                         | 1900/5268 [00:51<01:25, 39.58it/s]\u001b[A\n",
      " 36%|██████████████                         | 1904/5268 [00:51<01:27, 38.35it/s]\u001b[A\n",
      " 36%|██████████████▏                        | 1908/5268 [00:51<01:26, 38.65it/s]\u001b[A\n",
      " 36%|██████████████▏                        | 1912/5268 [00:51<01:26, 38.88it/s]\u001b[A\n",
      " 36%|██████████████▏                        | 1916/5268 [00:52<01:26, 38.55it/s]\u001b[A\n",
      " 36%|██████████████▏                        | 1920/5268 [00:52<01:29, 37.40it/s]\u001b[A\n",
      " 37%|██████████████▏                        | 1924/5268 [00:52<01:28, 37.76it/s]\u001b[A\n",
      " 37%|██████████████▎                        | 1928/5268 [00:52<01:27, 38.06it/s]\u001b[A\n",
      " 37%|██████████████▎                        | 1933/5268 [00:52<01:25, 39.21it/s]\u001b[A\n",
      " 37%|██████████████▎                        | 1937/5268 [00:52<01:26, 38.54it/s]\u001b[A\n",
      " 37%|██████████████▎                        | 1941/5268 [00:52<01:28, 37.54it/s]\u001b[A\n",
      " 37%|██████████████▍                        | 1945/5268 [00:52<01:27, 38.17it/s]\u001b[A\n",
      " 37%|██████████████▍                        | 1950/5268 [00:52<01:24, 39.09it/s]\u001b[A\n",
      " 37%|██████████████▍                        | 1955/5268 [00:53<01:22, 40.10it/s]\u001b[A\n",
      " 37%|██████████████▌                        | 1960/5268 [00:53<01:21, 40.61it/s]\u001b[A\n",
      " 37%|██████████████▌                        | 1965/5268 [00:53<01:21, 40.67it/s]\u001b[A\n",
      " 37%|██████████████▌                        | 1970/5268 [00:53<01:21, 40.27it/s]\u001b[A\n",
      " 37%|██████████████▌                        | 1975/5268 [00:53<01:21, 40.36it/s]\u001b[A\n",
      " 38%|██████████████▋                        | 1980/5268 [00:53<01:22, 39.75it/s]\u001b[A\n",
      " 38%|██████████████▋                        | 1984/5268 [00:53<01:23, 39.10it/s]\u001b[A\n",
      " 38%|██████████████▋                        | 1988/5268 [00:53<01:24, 38.94it/s]\u001b[A\n",
      " 38%|██████████████▋                        | 1992/5268 [00:53<01:24, 38.77it/s]\u001b[A\n",
      " 38%|██████████████▊                        | 1996/5268 [00:54<01:24, 38.60it/s]\u001b[A\n",
      " 38%|██████████████▊                        | 2000/5268 [00:54<01:24, 38.79it/s]\u001b[A\n",
      " 38%|██████████████▊                        | 2004/5268 [00:54<01:24, 38.56it/s]\u001b[A\n",
      " 38%|██████████████▊                        | 2008/5268 [00:54<01:25, 38.07it/s]\u001b[A\n",
      " 38%|██████████████▉                        | 2012/5268 [00:54<01:28, 36.96it/s]\u001b[A\n",
      " 38%|██████████████▉                        | 2016/5268 [00:54<01:29, 36.52it/s]\u001b[A\n",
      " 38%|██████████████▉                        | 2020/5268 [00:54<01:26, 37.40it/s]\u001b[A\n",
      " 38%|██████████████▉                        | 2025/5268 [00:54<01:23, 38.79it/s]\u001b[A\n",
      " 39%|███████████████                        | 2030/5268 [00:54<01:21, 39.56it/s]\u001b[A\n",
      " 39%|███████████████                        | 2035/5268 [00:55<01:20, 40.24it/s]\u001b[A\n",
      " 39%|███████████████                        | 2040/5268 [00:55<01:19, 40.47it/s]\u001b[A\n",
      " 39%|███████████████▏                       | 2045/5268 [00:55<01:19, 40.77it/s]\u001b[A\n",
      " 39%|███████████████▏                       | 2050/5268 [00:55<01:18, 40.96it/s]\u001b[A\n",
      " 39%|███████████████▏                       | 2055/5268 [00:55<01:18, 40.69it/s]\u001b[A\n",
      " 39%|███████████████▎                       | 2060/5268 [00:55<01:20, 39.84it/s]\u001b[A\n",
      " 39%|███████████████▎                       | 2065/5268 [00:55<01:20, 39.74it/s]\u001b[A\n",
      " 39%|███████████████▎                       | 2069/5268 [00:55<01:20, 39.78it/s]\u001b[A\n",
      " 39%|███████████████▎                       | 2073/5268 [00:56<01:20, 39.69it/s]\u001b[A\n",
      " 39%|███████████████▍                       | 2077/5268 [00:56<01:22, 38.90it/s]\u001b[A\n",
      " 40%|███████████████▍                       | 2081/5268 [00:56<01:22, 38.79it/s]\u001b[A\n",
      " 40%|███████████████▍                       | 2086/5268 [00:56<01:20, 39.50it/s]\u001b[A\n",
      " 40%|███████████████▍                       | 2090/5268 [00:56<01:21, 39.23it/s]\u001b[A\n",
      " 40%|███████████████▌                       | 2094/5268 [00:56<01:21, 39.12it/s]\u001b[A\n",
      " 40%|███████████████▌                       | 2098/5268 [00:56<01:22, 38.55it/s]\u001b[A\n",
      " 40%|███████████████▌                       | 2102/5268 [00:56<01:24, 37.59it/s]\u001b[A\n",
      " 40%|███████████████▌                       | 2106/5268 [00:56<01:24, 37.29it/s]\u001b[A\n",
      " 40%|███████████████▌                       | 2110/5268 [00:57<01:25, 37.07it/s]\u001b[A\n",
      " 40%|███████████████▋                       | 2115/5268 [00:57<01:22, 38.23it/s]\u001b[A\n",
      " 40%|███████████████▋                       | 2119/5268 [00:57<01:22, 38.20it/s]\u001b[A\n",
      " 40%|███████████████▋                       | 2123/5268 [00:57<01:23, 37.67it/s]\u001b[A\n",
      " 40%|███████████████▋                       | 2127/5268 [00:57<01:23, 37.47it/s]\u001b[A\n",
      " 40%|███████████████▊                       | 2131/5268 [00:57<01:22, 38.18it/s]\u001b[A\n",
      " 41%|███████████████▊                       | 2135/5268 [00:57<01:24, 36.90it/s]\u001b[A\n",
      " 41%|███████████████▊                       | 2139/5268 [00:57<01:22, 37.73it/s]\u001b[A\n",
      " 41%|███████████████▊                       | 2143/5268 [00:57<01:21, 38.31it/s]\u001b[A\n",
      " 41%|███████████████▉                       | 2147/5268 [00:57<01:20, 38.77it/s]\u001b[A\n",
      " 41%|███████████████▉                       | 2152/5268 [00:58<01:18, 39.55it/s]\u001b[A\n",
      " 41%|███████████████▉                       | 2156/5268 [00:58<01:19, 38.99it/s]\u001b[A\n",
      " 41%|███████████████▉                       | 2161/5268 [00:58<01:18, 39.56it/s]\u001b[A\n",
      " 41%|████████████████                       | 2165/5268 [00:58<01:18, 39.48it/s]\u001b[A\n",
      " 41%|████████████████                       | 2169/5268 [00:58<01:20, 38.65it/s]\u001b[A\n",
      " 41%|████████████████                       | 2173/5268 [00:58<01:21, 37.98it/s]\u001b[A\n",
      " 41%|████████████████                       | 2178/5268 [00:58<01:18, 39.12it/s]\u001b[A\n",
      " 41%|████████████████▏                      | 2183/5268 [00:58<01:17, 39.89it/s]\u001b[A\n"
     ]
    },
    {
     "name": "stderr",
     "output_type": "stream",
     "text": [
      " 42%|████████████████▏                      | 2187/5268 [00:58<01:17, 39.91it/s]\u001b[A\n",
      " 42%|████████████████▏                      | 2191/5268 [00:59<01:19, 38.54it/s]\u001b[A\n",
      " 42%|████████████████▎                      | 2195/5268 [00:59<01:22, 37.42it/s]\u001b[A\n",
      " 42%|████████████████▎                      | 2199/5268 [00:59<01:21, 37.45it/s]\u001b[A\n",
      " 42%|████████████████▎                      | 2203/5268 [00:59<01:23, 36.82it/s]\u001b[A\n",
      " 42%|████████████████▎                      | 2207/5268 [00:59<01:24, 36.23it/s]\u001b[A\n",
      " 42%|████████████████▎                      | 2211/5268 [00:59<01:25, 35.68it/s]\u001b[A\n",
      " 42%|████████████████▍                      | 2216/5268 [00:59<01:20, 38.05it/s]\u001b[A\n",
      " 42%|████████████████▍                      | 2221/5268 [00:59<01:18, 38.87it/s]\u001b[A\n",
      " 42%|████████████████▍                      | 2226/5268 [01:00<01:15, 40.06it/s]\u001b[A\n",
      " 42%|████████████████▌                      | 2231/5268 [01:00<01:14, 40.51it/s]\u001b[A\n",
      " 42%|████████████████▌                      | 2236/5268 [01:00<01:16, 39.85it/s]\u001b[A\n",
      " 43%|████████████████▌                      | 2241/5268 [01:00<01:14, 40.44it/s]\u001b[A\n",
      " 43%|████████████████▋                      | 2246/5268 [01:00<01:14, 40.48it/s]\u001b[A\n",
      " 43%|████████████████▋                      | 2251/5268 [01:00<01:15, 39.79it/s]\u001b[A\n",
      " 43%|████████████████▋                      | 2255/5268 [01:00<01:15, 39.76it/s]\u001b[A\n",
      " 43%|████████████████▋                      | 2260/5268 [01:00<01:14, 40.45it/s]\u001b[A\n",
      " 43%|████████████████▊                      | 2265/5268 [01:00<01:13, 40.61it/s]\u001b[A\n",
      " 43%|████████████████▊                      | 2270/5268 [01:01<01:13, 40.80it/s]\u001b[A\n",
      " 43%|████████████████▊                      | 2275/5268 [01:01<01:17, 38.60it/s]\u001b[A\n",
      " 43%|████████████████▊                      | 2279/5268 [01:01<01:19, 37.46it/s]\u001b[A\n",
      " 43%|████████████████▉                      | 2284/5268 [01:01<01:17, 38.38it/s]\u001b[A\n",
      " 43%|████████████████▉                      | 2288/5268 [01:01<01:19, 37.44it/s]\u001b[A\n",
      " 44%|████████████████▉                      | 2292/5268 [01:01<01:22, 36.06it/s]\u001b[A\n",
      " 44%|████████████████▉                      | 2296/5268 [01:01<01:21, 36.68it/s]\u001b[A\n",
      " 44%|█████████████████                      | 2301/5268 [01:01<01:17, 38.31it/s]\u001b[A\n",
      " 44%|█████████████████                      | 2306/5268 [01:02<01:15, 39.20it/s]\u001b[A\n",
      " 44%|█████████████████                      | 2311/5268 [01:02<01:13, 40.04it/s]\u001b[A\n",
      " 44%|█████████████████▏                     | 2316/5268 [01:02<01:13, 40.01it/s]\u001b[A\n",
      " 44%|█████████████████▏                     | 2321/5268 [01:02<01:13, 40.17it/s]\u001b[A\n",
      " 44%|█████████████████▏                     | 2326/5268 [01:02<01:13, 40.09it/s]\u001b[A\n",
      " 44%|█████████████████▎                     | 2331/5268 [01:02<01:13, 39.88it/s]\u001b[A\n",
      " 44%|█████████████████▎                     | 2336/5268 [01:02<01:12, 40.36it/s]\u001b[A\n",
      " 44%|█████████████████▎                     | 2341/5268 [01:02<01:18, 37.31it/s]\u001b[A\n",
      " 45%|█████████████████▎                     | 2346/5268 [01:03<01:15, 38.54it/s]\u001b[A\n",
      " 45%|█████████████████▍                     | 2351/5268 [01:03<01:14, 39.11it/s]\u001b[A\n",
      " 45%|█████████████████▍                     | 2356/5268 [01:03<01:13, 39.89it/s]\u001b[A\n",
      " 45%|█████████████████▍                     | 2361/5268 [01:03<01:12, 40.18it/s]\u001b[A\n",
      " 45%|█████████████████▌                     | 2366/5268 [01:03<01:11, 40.70it/s]\u001b[A\n",
      " 45%|█████████████████▌                     | 2371/5268 [01:03<01:12, 40.05it/s]\u001b[A\n",
      " 45%|█████████████████▌                     | 2376/5268 [01:03<01:10, 40.75it/s]\u001b[A\n",
      " 45%|█████████████████▋                     | 2381/5268 [01:03<01:13, 39.25it/s]\u001b[A\n",
      " 45%|█████████████████▋                     | 2385/5268 [01:04<01:17, 37.26it/s]\u001b[A\n",
      " 45%|█████████████████▋                     | 2389/5268 [01:04<01:16, 37.41it/s]\u001b[A\n",
      " 45%|█████████████████▋                     | 2393/5268 [01:04<01:15, 37.85it/s]\u001b[A\n",
      " 46%|█████████████████▊                     | 2398/5268 [01:04<01:12, 39.43it/s]\u001b[A\n",
      " 46%|█████████████████▊                     | 2402/5268 [01:04<01:13, 38.92it/s]\u001b[A\n",
      " 46%|█████████████████▊                     | 2406/5268 [01:04<01:15, 37.81it/s]\u001b[A\n",
      " 46%|█████████████████▊                     | 2410/5268 [01:04<01:14, 38.41it/s]\u001b[A\n",
      " 46%|█████████████████▉                     | 2415/5268 [01:04<01:12, 39.55it/s]\u001b[A\n",
      " 46%|█████████████████▉                     | 2419/5268 [01:04<01:12, 39.39it/s]\u001b[A\n",
      " 46%|█████████████████▉                     | 2423/5268 [01:05<01:12, 39.32it/s]\u001b[A\n",
      " 46%|█████████████████▉                     | 2428/5268 [01:05<01:10, 40.20it/s]\u001b[A\n",
      " 46%|██████████████████                     | 2433/5268 [01:05<01:10, 40.23it/s]\u001b[A\n",
      " 46%|██████████████████                     | 2438/5268 [01:05<01:10, 40.40it/s]\u001b[A\n",
      " 46%|██████████████████                     | 2443/5268 [01:05<01:08, 41.23it/s]\u001b[A\n",
      " 46%|██████████████████                     | 2448/5268 [01:05<01:10, 40.27it/s]\u001b[A\n",
      " 47%|██████████████████▏                    | 2453/5268 [01:05<01:08, 41.10it/s]\u001b[A\n",
      " 47%|██████████████████▏                    | 2458/5268 [01:05<01:08, 41.06it/s]\u001b[A\n",
      " 47%|██████████████████▏                    | 2463/5268 [01:06<01:08, 41.08it/s]\u001b[A\n",
      " 47%|██████████████████▎                    | 2468/5268 [01:06<01:08, 41.05it/s]\u001b[A\n",
      " 47%|██████████████████▎                    | 2473/5268 [01:06<01:09, 40.23it/s]\u001b[A\n",
      " 47%|██████████████████▎                    | 2478/5268 [01:06<01:08, 40.68it/s]\u001b[A\n",
      " 47%|██████████████████▍                    | 2483/5268 [01:06<01:10, 39.65it/s]\u001b[A\n",
      " 47%|██████████████████▍                    | 2487/5268 [01:06<01:12, 38.53it/s]\u001b[A\n",
      " 47%|██████████████████▍                    | 2492/5268 [01:06<01:10, 39.42it/s]\u001b[A\n",
      " 47%|██████████████████▍                    | 2496/5268 [01:06<01:10, 39.27it/s]\u001b[A\n",
      " 47%|██████████████████▌                    | 2501/5268 [01:06<01:09, 40.01it/s]\u001b[A\n",
      " 48%|██████████████████▌                    | 2506/5268 [01:07<01:07, 40.83it/s]\u001b[A\n",
      " 48%|██████████████████▌                    | 2511/5268 [01:07<01:09, 39.72it/s]\u001b[A\n",
      " 48%|██████████████████▋                    | 2516/5268 [01:07<01:08, 40.34it/s]\u001b[A\n",
      " 48%|██████████████████▋                    | 2521/5268 [01:07<01:07, 40.76it/s]\u001b[A\n",
      " 48%|██████████████████▋                    | 2526/5268 [01:07<01:07, 40.59it/s]\u001b[A\n",
      " 48%|██████████████████▋                    | 2531/5268 [01:07<01:08, 39.85it/s]\u001b[A\n",
      " 48%|██████████████████▊                    | 2536/5268 [01:07<01:07, 40.51it/s]\u001b[A\n",
      " 48%|██████████████████▊                    | 2541/5268 [01:07<01:07, 40.54it/s]\u001b[A\n",
      " 48%|██████████████████▊                    | 2546/5268 [01:08<01:07, 40.40it/s]\u001b[A\n",
      " 48%|██████████████████▉                    | 2551/5268 [01:08<01:07, 40.12it/s]\u001b[A\n",
      " 49%|██████████████████▉                    | 2556/5268 [01:08<01:07, 40.24it/s]\u001b[A\n",
      " 49%|██████████████████▉                    | 2561/5268 [01:08<01:06, 40.68it/s]\u001b[A\n",
      " 49%|██████████████████▉                    | 2566/5268 [01:08<01:07, 39.80it/s]\u001b[A\n",
      " 49%|███████████████████                    | 2570/5268 [01:08<01:07, 39.80it/s]\u001b[A\n",
      " 49%|███████████████████                    | 2575/5268 [01:08<01:06, 40.55it/s]\u001b[A\n",
      " 49%|███████████████████                    | 2580/5268 [01:08<01:05, 41.07it/s]\u001b[A\n",
      " 49%|███████████████████▏                   | 2585/5268 [01:09<01:05, 40.68it/s]\u001b[A\n",
      " 49%|███████████████████▏                   | 2590/5268 [01:09<01:05, 40.88it/s]\u001b[A\n",
      " 49%|███████████████████▏                   | 2595/5268 [01:09<01:05, 40.68it/s]\u001b[A\n",
      " 49%|███████████████████▏                   | 2600/5268 [01:09<01:05, 40.72it/s]\u001b[A\n",
      " 49%|███████████████████▎                   | 2605/5268 [01:09<01:05, 40.78it/s]\u001b[A\n",
      " 50%|███████████████████▎                   | 2610/5268 [01:09<01:07, 39.60it/s]\u001b[A\n",
      " 50%|███████████████████▎                   | 2615/5268 [01:09<01:05, 40.51it/s]\u001b[A\n",
      " 50%|███████████████████▍                   | 2620/5268 [01:09<01:04, 40.77it/s]\u001b[A\n",
      " 50%|███████████████████▍                   | 2625/5268 [01:10<01:04, 41.03it/s]\u001b[A\n",
      " 50%|███████████████████▍                   | 2630/5268 [01:10<01:04, 41.21it/s]\u001b[A\n",
      " 50%|███████████████████▌                   | 2635/5268 [01:10<01:04, 40.86it/s]\u001b[A\n",
      " 50%|███████████████████▌                   | 2640/5268 [01:10<01:04, 40.58it/s]\u001b[A\n",
      " 50%|███████████████████▌                   | 2645/5268 [01:10<01:04, 40.64it/s]\u001b[A\n"
     ]
    },
    {
     "name": "stderr",
     "output_type": "stream",
     "text": [
      " 50%|███████████████████▌                   | 2650/5268 [01:10<01:05, 40.09it/s]\u001b[A\n",
      " 50%|███████████████████▋                   | 2655/5268 [01:10<01:05, 40.18it/s]\u001b[A\n",
      " 50%|███████████████████▋                   | 2660/5268 [01:10<01:03, 40.76it/s]\u001b[A\n",
      " 51%|███████████████████▋                   | 2665/5268 [01:11<01:03, 40.94it/s]\u001b[A\n",
      " 51%|███████████████████▊                   | 2670/5268 [01:11<01:02, 41.31it/s]\u001b[A\n",
      " 51%|███████████████████▊                   | 2675/5268 [01:11<01:03, 40.93it/s]\u001b[A\n",
      " 51%|███████████████████▊                   | 2680/5268 [01:11<01:02, 41.34it/s]\u001b[A\n",
      " 51%|███████████████████▉                   | 2685/5268 [01:11<01:02, 41.13it/s]\u001b[A\n",
      " 51%|███████████████████▉                   | 2690/5268 [01:11<01:04, 40.14it/s]\u001b[A\n",
      " 51%|███████████████████▉                   | 2695/5268 [01:11<01:03, 40.43it/s]\u001b[A\n",
      " 51%|███████████████████▉                   | 2700/5268 [01:11<01:02, 41.12it/s]\u001b[A\n",
      " 51%|████████████████████                   | 2705/5268 [01:12<01:01, 41.42it/s]\u001b[A\n",
      " 51%|████████████████████                   | 2710/5268 [01:12<01:01, 41.56it/s]\u001b[A\n",
      " 52%|████████████████████                   | 2715/5268 [01:12<01:02, 40.74it/s]\u001b[A\n",
      " 52%|████████████████████▏                  | 2720/5268 [01:12<01:02, 40.81it/s]\u001b[A\n",
      " 52%|████████████████████▏                  | 2725/5268 [01:12<01:02, 40.90it/s]\u001b[A\n",
      " 52%|████████████████████▏                  | 2730/5268 [01:12<01:04, 39.52it/s]\u001b[A\n",
      " 52%|████████████████████▏                  | 2735/5268 [01:12<01:03, 40.16it/s]\u001b[A\n",
      " 52%|████████████████████▎                  | 2740/5268 [01:12<01:02, 40.53it/s]\u001b[A\n",
      " 52%|████████████████████▎                  | 2745/5268 [01:12<01:02, 40.06it/s]\u001b[A\n",
      " 52%|████████████████████▎                  | 2750/5268 [01:13<01:01, 40.73it/s]\u001b[A\n",
      " 52%|████████████████████▍                  | 2755/5268 [01:13<01:02, 40.31it/s]\u001b[A\n",
      " 52%|████████████████████▍                  | 2760/5268 [01:13<01:02, 40.38it/s]\u001b[A\n",
      " 52%|████████████████████▍                  | 2765/5268 [01:13<01:00, 41.07it/s]\u001b[A\n",
      " 53%|████████████████████▌                  | 2770/5268 [01:13<01:02, 40.00it/s]\u001b[A\n",
      " 53%|████████████████████▌                  | 2775/5268 [01:13<01:01, 40.30it/s]\u001b[A\n",
      " 53%|████████████████████▌                  | 2780/5268 [01:13<01:01, 40.18it/s]\u001b[A\n",
      " 53%|████████████████████▌                  | 2785/5268 [01:13<01:02, 40.04it/s]\u001b[A\n",
      " 53%|████████████████████▋                  | 2790/5268 [01:14<01:00, 40.74it/s]\u001b[A\n",
      " 53%|████████████████████▋                  | 2795/5268 [01:14<01:01, 40.41it/s]\u001b[A\n",
      " 53%|████████████████████▋                  | 2800/5268 [01:14<01:01, 40.39it/s]\u001b[A\n",
      " 53%|████████████████████▊                  | 2805/5268 [01:14<01:00, 40.46it/s]\u001b[A\n",
      " 53%|████████████████████▊                  | 2810/5268 [01:14<01:01, 39.85it/s]\u001b[A\n",
      " 53%|████████████████████▊                  | 2814/5268 [01:14<01:01, 39.78it/s]\u001b[A\n",
      " 54%|████████████████████▊                  | 2819/5268 [01:14<01:00, 40.32it/s]\u001b[A\n",
      " 54%|████████████████████▉                  | 2824/5268 [01:14<00:59, 40.93it/s]\u001b[A\n",
      " 54%|████████████████████▉                  | 2829/5268 [01:15<00:59, 40.72it/s]\u001b[A\n",
      " 54%|████████████████████▉                  | 2834/5268 [01:15<00:59, 40.76it/s]\u001b[A\n",
      " 54%|█████████████████████                  | 2839/5268 [01:15<01:00, 40.34it/s]\u001b[A\n",
      " 54%|█████████████████████                  | 2844/5268 [01:15<00:59, 40.91it/s]\u001b[A\n",
      " 54%|█████████████████████                  | 2849/5268 [01:15<01:01, 39.35it/s]\u001b[A\n",
      " 54%|█████████████████████                  | 2853/5268 [01:15<01:04, 37.46it/s]\u001b[A\n",
      " 54%|█████████████████████▏                 | 2857/5268 [01:15<01:03, 38.07it/s]\u001b[A\n",
      " 54%|█████████████████████▏                 | 2861/5268 [01:15<01:02, 38.35it/s]\u001b[A\n",
      " 54%|█████████████████████▏                 | 2866/5268 [01:16<01:00, 39.43it/s]\u001b[A\n",
      " 54%|█████████████████████▏                 | 2870/5268 [01:16<01:00, 39.46it/s]\u001b[A\n",
      " 55%|█████████████████████▎                 | 2874/5268 [01:16<01:01, 38.91it/s]\u001b[A\n",
      " 55%|█████████████████████▎                 | 2878/5268 [01:16<01:01, 38.81it/s]\u001b[A\n",
      " 55%|█████████████████████▎                 | 2883/5268 [01:16<00:59, 39.91it/s]\u001b[A\n",
      " 55%|█████████████████████▎                 | 2887/5268 [01:16<01:00, 39.56it/s]\u001b[A\n",
      " 55%|█████████████████████▍                 | 2891/5268 [01:16<01:02, 38.21it/s]\u001b[A\n",
      " 55%|█████████████████████▍                 | 2896/5268 [01:16<01:01, 38.88it/s]\u001b[A\n",
      " 55%|█████████████████████▍                 | 2900/5268 [01:16<01:00, 39.17it/s]\u001b[A\n",
      " 55%|█████████████████████▍                 | 2904/5268 [01:17<01:04, 36.83it/s]\u001b[A\n",
      " 55%|█████████████████████▌                 | 2908/5268 [01:17<01:07, 35.07it/s]\u001b[A\n",
      " 55%|█████████████████████▌                 | 2912/5268 [01:17<01:08, 34.19it/s]\u001b[A\n",
      " 55%|█████████████████████▌                 | 2916/5268 [01:17<01:07, 34.78it/s]\u001b[A\n",
      " 55%|█████████████████████▌                 | 2920/5268 [01:17<01:08, 34.30it/s]\u001b[A\n",
      " 56%|█████████████████████▋                 | 2924/5268 [01:17<01:08, 34.03it/s]\u001b[A\n",
      " 56%|█████████████████████▋                 | 2928/5268 [01:17<01:08, 33.93it/s]\u001b[A\n",
      " 56%|█████████████████████▋                 | 2932/5268 [01:17<01:08, 34.11it/s]\u001b[A\n",
      " 56%|█████████████████████▋                 | 2936/5268 [01:17<01:08, 34.17it/s]\u001b[A\n",
      " 56%|█████████████████████▊                 | 2940/5268 [01:18<01:08, 34.02it/s]\u001b[A\n",
      " 56%|█████████████████████▊                 | 2944/5268 [01:18<01:07, 34.21it/s]\u001b[A\n",
      " 56%|█████████████████████▊                 | 2948/5268 [01:18<01:07, 34.35it/s]\u001b[A\n",
      " 56%|█████████████████████▊                 | 2953/5268 [01:18<01:03, 36.41it/s]\u001b[A\n",
      " 56%|█████████████████████▉                 | 2957/5268 [01:18<01:04, 35.94it/s]\u001b[A\n",
      " 56%|█████████████████████▉                 | 2961/5268 [01:18<01:05, 35.12it/s]\u001b[A\n",
      " 56%|█████████████████████▉                 | 2966/5268 [01:18<01:02, 36.78it/s]\u001b[A\n",
      " 56%|█████████████████████▉                 | 2971/5268 [01:18<01:00, 38.24it/s]\u001b[A\n",
      " 56%|██████████████████████                 | 2975/5268 [01:19<01:00, 38.09it/s]\u001b[A\n",
      " 57%|██████████████████████                 | 2980/5268 [01:19<00:58, 38.92it/s]\u001b[A\n",
      " 57%|██████████████████████                 | 2984/5268 [01:19<00:58, 38.98it/s]\u001b[A\n",
      " 57%|██████████████████████▏                | 2989/5268 [01:19<00:57, 39.88it/s]\u001b[A\n",
      " 57%|██████████████████████▏                | 2994/5268 [01:19<00:56, 40.01it/s]\u001b[A\n",
      " 57%|██████████████████████▏                | 2998/5268 [01:19<00:56, 39.86it/s]\u001b[A\n",
      " 57%|██████████████████████▏                | 3002/5268 [01:19<00:57, 39.72it/s]\u001b[A\n",
      " 57%|██████████████████████▎                | 3007/5268 [01:19<00:56, 40.36it/s]\u001b[A\n",
      " 57%|██████████████████████▎                | 3012/5268 [01:19<00:54, 41.35it/s]\u001b[A\n",
      " 57%|██████████████████████▎                | 3017/5268 [01:20<00:53, 41.74it/s]\u001b[A\n",
      " 57%|██████████████████████▎                | 3022/5268 [01:20<00:54, 41.44it/s]\u001b[A\n",
      " 57%|██████████████████████▍                | 3027/5268 [01:20<00:54, 41.32it/s]\u001b[A\n",
      " 58%|██████████████████████▍                | 3032/5268 [01:20<00:53, 41.43it/s]\u001b[A\n",
      " 58%|██████████████████████▍                | 3037/5268 [01:20<00:54, 41.15it/s]\u001b[A\n",
      " 58%|██████████████████████▌                | 3042/5268 [01:20<00:56, 39.21it/s]\u001b[A\n",
      " 58%|██████████████████████▌                | 3046/5268 [01:20<00:59, 37.33it/s]\u001b[A\n",
      " 58%|██████████████████████▌                | 3050/5268 [01:20<00:58, 37.90it/s]\u001b[A\n",
      " 58%|██████████████████████▌                | 3054/5268 [01:21<00:57, 38.42it/s]\u001b[A\n",
      " 58%|██████████████████████▋                | 3059/5268 [01:21<00:56, 39.40it/s]\u001b[A\n",
      " 58%|██████████████████████▋                | 3064/5268 [01:21<00:55, 39.97it/s]\u001b[A\n",
      " 58%|██████████████████████▋                | 3069/5268 [01:21<00:53, 40.78it/s]\u001b[A\n",
      " 58%|██████████████████████▊                | 3074/5268 [01:21<00:55, 39.38it/s]\u001b[A\n",
      " 58%|██████████████████████▊                | 3078/5268 [01:21<00:55, 39.23it/s]\u001b[A\n",
      " 59%|██████████████████████▊                | 3082/5268 [01:21<00:55, 39.25it/s]\u001b[A\n",
      " 59%|██████████████████████▊                | 3086/5268 [01:21<00:56, 38.64it/s]\u001b[A\n",
      " 59%|██████████████████████▉                | 3091/5268 [01:21<00:54, 39.86it/s]\u001b[A\n",
      " 59%|██████████████████████▉                | 3095/5268 [01:22<00:56, 38.36it/s]\u001b[A\n"
     ]
    },
    {
     "name": "stderr",
     "output_type": "stream",
     "text": [
      " 59%|██████████████████████▉                | 3099/5268 [01:22<00:58, 37.20it/s]\u001b[A\n",
      " 59%|██████████████████████▉                | 3103/5268 [01:22<00:59, 36.31it/s]\u001b[A\n",
      " 59%|███████████████████████                | 3107/5268 [01:22<01:00, 35.81it/s]\u001b[A\n",
      " 59%|███████████████████████                | 3111/5268 [01:22<01:00, 35.51it/s]\u001b[A\n",
      " 59%|███████████████████████                | 3115/5268 [01:22<01:03, 33.94it/s]\u001b[A\n",
      " 59%|███████████████████████                | 3119/5268 [01:22<01:02, 34.28it/s]\u001b[A\n",
      " 59%|███████████████████████                | 3123/5268 [01:22<01:01, 34.69it/s]\u001b[A\n",
      " 59%|███████████████████████▏               | 3127/5268 [01:22<01:00, 35.16it/s]\u001b[A\n",
      " 59%|███████████████████████▏               | 3131/5268 [01:23<01:01, 34.49it/s]\u001b[A\n",
      " 60%|███████████████████████▏               | 3135/5268 [01:23<00:59, 35.57it/s]\u001b[A\n",
      " 60%|███████████████████████▏               | 3139/5268 [01:23<01:02, 33.94it/s]\u001b[A\n",
      " 60%|███████████████████████▎               | 3143/5268 [01:23<01:01, 34.50it/s]\u001b[A\n",
      " 60%|███████████████████████▎               | 3147/5268 [01:23<01:03, 33.61it/s]\u001b[A\n",
      " 60%|███████████████████████▎               | 3151/5268 [01:23<01:05, 32.26it/s]\u001b[A\n",
      " 60%|███████████████████████▎               | 3155/5268 [01:23<01:05, 32.43it/s]\u001b[A\n",
      " 60%|███████████████████████▍               | 3159/5268 [01:23<01:02, 33.98it/s]\u001b[A\n",
      " 60%|███████████████████████▍               | 3164/5268 [01:24<00:57, 36.35it/s]\u001b[A\n",
      " 60%|███████████████████████▍               | 3169/5268 [01:24<00:54, 38.18it/s]\u001b[A\n",
      " 60%|███████████████████████▍               | 3173/5268 [01:24<00:56, 37.22it/s]\u001b[A\n",
      " 60%|███████████████████████▌               | 3177/5268 [01:24<00:58, 35.73it/s]\u001b[A\n",
      " 60%|███████████████████████▌               | 3181/5268 [01:24<00:57, 35.99it/s]\u001b[A\n",
      " 60%|███████████████████████▌               | 3185/5268 [01:24<00:57, 36.12it/s]\u001b[A\n",
      " 61%|███████████████████████▌               | 3190/5268 [01:24<00:54, 37.84it/s]\u001b[A\n",
      " 61%|███████████████████████▋               | 3195/5268 [01:24<00:52, 39.25it/s]\u001b[A\n",
      " 61%|███████████████████████▋               | 3199/5268 [01:24<00:52, 39.45it/s]\u001b[A\n",
      " 61%|███████████████████████▋               | 3204/5268 [01:25<00:51, 40.13it/s]\u001b[A\n",
      " 61%|███████████████████████▊               | 3209/5268 [01:25<00:51, 39.95it/s]\u001b[A\n",
      " 61%|███████████████████████▊               | 3214/5268 [01:25<00:51, 40.14it/s]\u001b[A\n",
      " 61%|███████████████████████▊               | 3219/5268 [01:25<00:50, 40.39it/s]\u001b[A\n",
      " 61%|███████████████████████▊               | 3224/5268 [01:25<00:50, 40.83it/s]\u001b[A\n",
      " 61%|███████████████████████▉               | 3229/5268 [01:25<00:51, 39.90it/s]\u001b[A\n",
      " 61%|███████████████████████▉               | 3234/5268 [01:25<00:50, 40.42it/s]\u001b[A\n",
      " 61%|███████████████████████▉               | 3239/5268 [01:25<00:49, 41.11it/s]\u001b[A\n",
      " 62%|████████████████████████               | 3244/5268 [01:26<00:49, 41.29it/s]\u001b[A\n",
      " 62%|████████████████████████               | 3249/5268 [01:26<00:48, 41.25it/s]\u001b[A\n",
      " 62%|████████████████████████               | 3254/5268 [01:26<00:49, 40.86it/s]\u001b[A\n",
      " 62%|████████████████████████▏              | 3259/5268 [01:26<00:48, 41.19it/s]\u001b[A\n",
      " 62%|████████████████████████▏              | 3264/5268 [01:26<00:48, 40.92it/s]\u001b[A\n",
      " 62%|████████████████████████▏              | 3269/5268 [01:26<00:50, 39.69it/s]\u001b[A\n",
      " 62%|████████████████████████▏              | 3274/5268 [01:26<00:49, 40.41it/s]\u001b[A\n",
      " 62%|████████████████████████▎              | 3279/5268 [01:26<00:49, 40.42it/s]\u001b[A\n",
      " 62%|████████████████████████▎              | 3284/5268 [01:27<00:48, 40.68it/s]\u001b[A\n",
      " 62%|████████████████████████▎              | 3289/5268 [01:27<00:49, 40.34it/s]\u001b[A\n",
      " 63%|████████████████████████▍              | 3294/5268 [01:27<00:49, 39.90it/s]\u001b[A\n",
      " 63%|████████████████████████▍              | 3298/5268 [01:27<00:49, 39.87it/s]\u001b[A\n",
      " 63%|████████████████████████▍              | 3302/5268 [01:27<00:49, 39.86it/s]\u001b[A\n",
      " 63%|████████████████████████▍              | 3306/5268 [01:27<00:49, 39.65it/s]\u001b[A\n",
      " 63%|████████████████████████▌              | 3310/5268 [01:27<00:49, 39.47it/s]\u001b[A\n",
      " 63%|████████████████████████▌              | 3315/5268 [01:27<00:48, 40.44it/s]\u001b[A\n",
      " 63%|████████████████████████▌              | 3320/5268 [01:27<00:47, 40.70it/s]\u001b[A\n",
      " 63%|████████████████████████▌              | 3325/5268 [01:28<00:47, 40.98it/s]\u001b[A\n",
      " 63%|████████████████████████▋              | 3330/5268 [01:28<00:48, 40.31it/s]\u001b[A\n",
      " 63%|████████████████████████▋              | 3335/5268 [01:28<00:47, 40.29it/s]\u001b[A\n",
      " 63%|████████████████████████▋              | 3340/5268 [01:28<00:47, 40.44it/s]\u001b[A\n",
      " 63%|████████████████████████▊              | 3345/5268 [01:28<00:47, 40.47it/s]\u001b[A\n",
      " 64%|████████████████████████▊              | 3350/5268 [01:28<00:48, 39.49it/s]\u001b[A\n",
      " 64%|████████████████████████▊              | 3354/5268 [01:28<00:48, 39.61it/s]\u001b[A\n",
      " 64%|████████████████████████▊              | 3359/5268 [01:28<00:47, 39.79it/s]\u001b[A\n",
      " 64%|████████████████████████▉              | 3364/5268 [01:29<00:46, 40.76it/s]\u001b[A\n",
      " 64%|████████████████████████▉              | 3369/5268 [01:29<00:46, 41.10it/s]\u001b[A\n",
      " 64%|████████████████████████▉              | 3374/5268 [01:29<00:46, 40.88it/s]\u001b[A\n",
      " 64%|█████████████████████████              | 3379/5268 [01:29<00:45, 41.16it/s]\u001b[A\n",
      " 64%|█████████████████████████              | 3384/5268 [01:29<00:45, 41.00it/s]\u001b[A\n",
      " 64%|█████████████████████████              | 3389/5268 [01:29<00:46, 40.02it/s]\u001b[A\n",
      " 64%|█████████████████████████▏             | 3394/5268 [01:29<00:47, 39.75it/s]\u001b[A\n",
      " 65%|█████████████████████████▏             | 3399/5268 [01:29<00:46, 40.50it/s]\u001b[A\n",
      " 65%|█████████████████████████▏             | 3404/5268 [01:30<00:46, 40.45it/s]\u001b[A\n",
      " 65%|█████████████████████████▏             | 3409/5268 [01:30<00:45, 40.63it/s]\u001b[A\n",
      " 65%|█████████████████████████▎             | 3414/5268 [01:30<00:45, 40.72it/s]\u001b[A\n",
      " 65%|█████████████████████████▎             | 3419/5268 [01:30<00:45, 40.45it/s]\u001b[A\n",
      " 65%|█████████████████████████▎             | 3424/5268 [01:30<00:46, 39.88it/s]\u001b[A\n",
      " 65%|█████████████████████████▍             | 3428/5268 [01:30<00:47, 38.70it/s]\u001b[A\n",
      " 65%|█████████████████████████▍             | 3433/5268 [01:30<00:46, 39.50it/s]\u001b[A\n",
      " 65%|█████████████████████████▍             | 3438/5268 [01:30<00:45, 40.19it/s]\u001b[A\n",
      " 65%|█████████████████████████▍             | 3443/5268 [01:31<00:44, 40.56it/s]\u001b[A\n",
      " 65%|█████████████████████████▌             | 3448/5268 [01:31<00:45, 40.34it/s]\u001b[A\n",
      " 66%|█████████████████████████▌             | 3453/5268 [01:31<00:44, 40.39it/s]\u001b[A\n",
      " 66%|█████████████████████████▌             | 3458/5268 [01:31<00:44, 40.57it/s]\u001b[A\n",
      " 66%|█████████████████████████▋             | 3463/5268 [01:31<00:44, 40.89it/s]\u001b[A\n",
      " 66%|█████████████████████████▋             | 3468/5268 [01:31<00:44, 40.02it/s]\u001b[A\n",
      " 66%|█████████████████████████▋             | 3473/5268 [01:31<00:44, 39.92it/s]\u001b[A\n",
      " 66%|█████████████████████████▋             | 3478/5268 [01:31<00:44, 40.53it/s]\u001b[A\n",
      " 66%|█████████████████████████▊             | 3483/5268 [01:31<00:43, 40.86it/s]\u001b[A\n",
      " 66%|█████████████████████████▊             | 3488/5268 [01:32<00:43, 41.32it/s]\u001b[A\n",
      " 66%|█████████████████████████▊             | 3493/5268 [01:32<00:43, 40.78it/s]\u001b[A\n",
      " 66%|█████████████████████████▉             | 3498/5268 [01:32<00:43, 40.98it/s]\u001b[A\n",
      " 66%|█████████████████████████▉             | 3503/5268 [01:32<00:42, 41.22it/s]\u001b[A\n",
      " 67%|█████████████████████████▉             | 3508/5268 [01:32<00:43, 40.58it/s]\u001b[A\n",
      " 67%|██████████████████████████             | 3513/5268 [01:35<06:07,  4.78it/s]\u001b[A\n",
      " 67%|██████████████████████████             | 3517/5268 [01:35<04:44,  6.16it/s]\u001b[A"
     ]
    },
    {
     "name": "stdout",
     "output_type": "stream",
     "text": [
      "epoch 1: {'precision': 0.629585997980478, 'recall': 0.5591928251121077, 'f1': 0.5923052564914503, 'accuracy': 0.919424277566842}\n"
     ]
    },
    {
     "name": "stderr",
     "output_type": "stream",
     "text": [
      "\n",
      " 67%|██████████████████████████             | 3521/5268 [01:36<03:40,  7.94it/s]\u001b[A\n",
      " 67%|██████████████████████████             | 3525/5268 [01:36<02:51, 10.15it/s]\u001b[A\n",
      " 67%|██████████████████████████▏            | 3529/5268 [01:36<02:15, 12.82it/s]\u001b[A\n",
      " 67%|██████████████████████████▏            | 3533/5268 [01:36<01:49, 15.91it/s]\u001b[A\n",
      " 67%|██████████████████████████▏            | 3537/5268 [01:36<01:29, 19.25it/s]\u001b[A\n",
      " 67%|██████████████████████████▏            | 3541/5268 [01:36<01:16, 22.65it/s]\u001b[A\n",
      " 67%|██████████████████████████▏            | 3545/5268 [01:36<01:07, 25.49it/s]\u001b[A\n",
      " 67%|██████████████████████████▎            | 3550/5268 [01:36<00:58, 29.40it/s]\u001b[A\n",
      " 67%|██████████████████████████▎            | 3554/5268 [01:36<00:54, 31.67it/s]\u001b[A\n",
      " 68%|██████████████████████████▎            | 3558/5268 [01:36<00:51, 33.22it/s]\u001b[A\n",
      " 68%|██████████████████████████▎            | 3562/5268 [01:37<00:48, 34.88it/s]\u001b[A\n",
      " 68%|██████████████████████████▍            | 3567/5268 [01:37<00:46, 36.86it/s]\u001b[A\n",
      " 68%|██████████████████████████▍            | 3571/5268 [01:37<00:45, 37.42it/s]\u001b[A\n",
      " 68%|██████████████████████████▍            | 3576/5268 [01:37<00:43, 38.80it/s]\u001b[A\n",
      " 68%|██████████████████████████▌            | 3581/5268 [01:37<00:42, 39.74it/s]\u001b[A\n",
      " 68%|██████████████████████████▌            | 3586/5268 [01:37<00:41, 40.27it/s]\u001b[A\n",
      " 68%|██████████████████████████▌            | 3591/5268 [01:37<00:40, 40.93it/s]\u001b[A\n",
      " 68%|██████████████████████████▌            | 3596/5268 [01:37<00:41, 40.65it/s]\u001b[A\n",
      " 68%|██████████████████████████▋            | 3601/5268 [01:38<00:41, 40.43it/s]\u001b[A\n",
      " 68%|██████████████████████████▋            | 3606/5268 [01:38<00:41, 40.51it/s]\u001b[A\n",
      " 69%|██████████████████████████▋            | 3611/5268 [01:38<00:41, 40.34it/s]\u001b[A\n",
      " 69%|██████████████████████████▊            | 3616/5268 [01:38<00:40, 40.80it/s]\u001b[A\n",
      " 69%|██████████████████████████▊            | 3621/5268 [01:38<00:40, 40.28it/s]\u001b[A\n",
      " 69%|██████████████████████████▊            | 3626/5268 [01:38<00:41, 39.12it/s]\u001b[A\n",
      " 69%|██████████████████████████▉            | 3631/5268 [01:38<00:41, 39.39it/s]\u001b[A\n",
      " 69%|██████████████████████████▉            | 3636/5268 [01:38<00:40, 40.40it/s]\u001b[A\n",
      " 69%|██████████████████████████▉            | 3641/5268 [01:39<00:39, 40.87it/s]\u001b[A\n",
      " 69%|██████████████████████████▉            | 3646/5268 [01:39<00:40, 39.74it/s]\u001b[A\n",
      " 69%|███████████████████████████            | 3650/5268 [01:39<00:41, 39.30it/s]\u001b[A\n",
      " 69%|███████████████████████████            | 3655/5268 [01:39<00:40, 40.01it/s]\u001b[A\n",
      " 69%|███████████████████████████            | 3660/5268 [01:39<00:40, 40.04it/s]\u001b[A\n",
      " 70%|███████████████████████████▏           | 3665/5268 [01:39<00:41, 39.04it/s]\u001b[A\n",
      " 70%|███████████████████████████▏           | 3669/5268 [01:39<00:40, 39.22it/s]\u001b[A\n",
      " 70%|███████████████████████████▏           | 3674/5268 [01:39<00:39, 39.93it/s]\u001b[A\n",
      " 70%|███████████████████████████▏           | 3679/5268 [01:39<00:39, 40.22it/s]\u001b[A\n",
      " 70%|███████████████████████████▎           | 3684/5268 [01:40<00:39, 40.52it/s]\u001b[A\n",
      " 70%|███████████████████████████▎           | 3689/5268 [01:40<00:39, 39.77it/s]\u001b[A\n",
      " 70%|███████████████████████████▎           | 3694/5268 [01:40<00:38, 40.42it/s]\u001b[A\n",
      " 70%|███████████████████████████▍           | 3699/5268 [01:40<00:38, 41.09it/s]\u001b[A\n",
      " 70%|███████████████████████████▍           | 3704/5268 [01:40<00:37, 41.17it/s]\u001b[A\n",
      " 70%|███████████████████████████▍           | 3709/5268 [01:40<00:38, 40.04it/s]\u001b[A\n",
      " 71%|███████████████████████████▍           | 3714/5268 [01:40<00:38, 40.83it/s]\u001b[A\n",
      " 71%|███████████████████████████▌           | 3719/5268 [01:40<00:37, 41.05it/s]\u001b[A\n",
      " 71%|███████████████████████████▌           | 3724/5268 [01:41<00:37, 41.13it/s]\u001b[A\n",
      " 71%|███████████████████████████▌           | 3729/5268 [01:41<00:37, 41.01it/s]\u001b[A\n",
      " 71%|███████████████████████████▋           | 3734/5268 [01:41<00:37, 40.78it/s]\u001b[A\n",
      " 71%|███████████████████████████▋           | 3739/5268 [01:41<00:37, 41.10it/s]\u001b[A\n",
      " 71%|███████████████████████████▋           | 3744/5268 [01:41<00:37, 40.95it/s]\u001b[A\n",
      " 71%|███████████████████████████▊           | 3749/5268 [01:41<00:37, 40.07it/s]\u001b[A\n",
      " 71%|███████████████████████████▊           | 3754/5268 [01:41<00:37, 40.43it/s]\u001b[A\n",
      " 71%|███████████████████████████▊           | 3759/5268 [01:41<00:37, 40.49it/s]\u001b[A\n",
      " 71%|███████████████████████████▊           | 3764/5268 [01:42<00:36, 41.13it/s]\u001b[A\n",
      " 72%|███████████████████████████▉           | 3769/5268 [01:42<00:36, 41.11it/s]\u001b[A\n",
      " 72%|███████████████████████████▉           | 3774/5268 [01:42<00:36, 40.65it/s]\u001b[A\n",
      " 72%|███████████████████████████▉           | 3779/5268 [01:42<00:36, 41.34it/s]\u001b[A\n",
      " 72%|████████████████████████████           | 3784/5268 [01:42<00:36, 40.89it/s]\u001b[A\n",
      " 72%|████████████████████████████           | 3789/5268 [01:42<00:37, 39.65it/s]\u001b[A\n",
      " 72%|████████████████████████████           | 3793/5268 [01:42<00:37, 39.70it/s]\u001b[A\n",
      " 72%|████████████████████████████           | 3797/5268 [01:42<00:37, 39.31it/s]\u001b[A\n",
      " 72%|████████████████████████████▏          | 3802/5268 [01:43<00:36, 39.82it/s]\u001b[A\n",
      " 72%|████████████████████████████▏          | 3806/5268 [01:43<00:36, 39.79it/s]\u001b[A\n",
      " 72%|████████████████████████████▏          | 3810/5268 [01:43<00:36, 39.81it/s]\u001b[A\n",
      " 72%|████████████████████████████▏          | 3815/5268 [01:43<00:35, 40.56it/s]\u001b[A\n",
      " 73%|████████████████████████████▎          | 3820/5268 [01:43<00:35, 40.52it/s]\u001b[A\n",
      " 73%|████████████████████████████▎          | 3825/5268 [01:43<00:35, 41.03it/s]\u001b[A\n",
      " 73%|████████████████████████████▎          | 3830/5268 [01:43<00:35, 39.99it/s]\u001b[A\n",
      " 73%|████████████████████████████▍          | 3835/5268 [01:43<00:35, 40.69it/s]\u001b[A\n",
      " 73%|████████████████████████████▍          | 3840/5268 [01:43<00:35, 40.67it/s]\u001b[A\n",
      " 73%|████████████████████████████▍          | 3845/5268 [01:44<00:35, 40.22it/s]\u001b[A\n",
      " 73%|████████████████████████████▌          | 3850/5268 [01:44<00:35, 40.31it/s]\u001b[A\n",
      " 73%|████████████████████████████▌          | 3855/5268 [01:44<00:34, 40.52it/s]\u001b[A\n",
      " 73%|████████████████████████████▌          | 3860/5268 [01:44<00:34, 41.04it/s]\u001b[A\n",
      " 73%|████████████████████████████▌          | 3865/5268 [01:44<00:34, 40.53it/s]\u001b[A\n",
      " 73%|████████████████████████████▋          | 3870/5268 [01:44<00:33, 41.19it/s]\u001b[A\n",
      " 74%|████████████████████████████▋          | 3875/5268 [01:44<00:33, 41.41it/s]\u001b[A\n",
      " 74%|████████████████████████████▋          | 3880/5268 [01:44<00:33, 41.49it/s]\u001b[A\n",
      " 74%|████████████████████████████▊          | 3885/5268 [01:45<00:33, 41.19it/s]\u001b[A\n",
      " 74%|████████████████████████████▊          | 3890/5268 [01:45<00:33, 41.58it/s]\u001b[A\n",
      " 74%|████████████████████████████▊          | 3895/5268 [01:45<00:32, 41.68it/s]\u001b[A\n",
      " 74%|████████████████████████████▊          | 3900/5268 [01:45<00:33, 41.04it/s]\u001b[A\n",
      " 74%|████████████████████████████▉          | 3905/5268 [01:45<00:34, 40.08it/s]\u001b[A\n",
      " 74%|████████████████████████████▉          | 3910/5268 [01:45<00:34, 39.59it/s]\u001b[A\n",
      " 74%|████████████████████████████▉          | 3914/5268 [01:45<00:34, 39.51it/s]\u001b[A\n",
      " 74%|█████████████████████████████          | 3919/5268 [01:45<00:33, 39.75it/s]\u001b[A\n",
      " 74%|█████████████████████████████          | 3923/5268 [01:45<00:34, 39.16it/s]\u001b[A\n",
      " 75%|█████████████████████████████          | 3927/5268 [01:46<00:34, 39.28it/s]\u001b[A\n",
      " 75%|█████████████████████████████          | 3931/5268 [01:46<00:34, 39.01it/s]\u001b[A\n",
      " 75%|█████████████████████████████▏         | 3935/5268 [01:46<00:34, 39.20it/s]\u001b[A\n",
      " 75%|█████████████████████████████▏         | 3939/5268 [01:46<00:33, 39.30it/s]\u001b[A\n",
      " 75%|█████████████████████████████▏         | 3943/5268 [01:46<00:33, 39.13it/s]\u001b[A\n",
      " 75%|█████████████████████████████▏         | 3947/5268 [01:46<00:35, 37.05it/s]\u001b[A\n",
      " 75%|█████████████████████████████▎         | 3951/5268 [01:46<00:35, 37.60it/s]\u001b[A\n",
      " 75%|█████████████████████████████▎         | 3955/5268 [01:46<00:34, 37.83it/s]\u001b[A\n",
      " 75%|█████████████████████████████▎         | 3960/5268 [01:46<00:33, 39.02it/s]\u001b[A\n",
      " 75%|█████████████████████████████▎         | 3964/5268 [01:47<00:33, 38.46it/s]\u001b[A\n",
      " 75%|█████████████████████████████▍         | 3968/5268 [01:47<00:33, 38.31it/s]\u001b[A\n",
      " 75%|█████████████████████████████▍         | 3973/5268 [01:47<00:33, 39.23it/s]\u001b[A\n"
     ]
    },
    {
     "name": "stderr",
     "output_type": "stream",
     "text": [
      " 76%|█████████████████████████████▍         | 3978/5268 [01:47<00:32, 40.17it/s]\u001b[A\n",
      " 76%|█████████████████████████████▍         | 3983/5268 [01:47<00:31, 40.23it/s]\u001b[A\n",
      " 76%|█████████████████████████████▌         | 3988/5268 [01:47<00:32, 39.43it/s]\u001b[A\n",
      " 76%|█████████████████████████████▌         | 3993/5268 [01:47<00:31, 40.20it/s]\u001b[A\n",
      " 76%|█████████████████████████████▌         | 3998/5268 [01:47<00:31, 40.38it/s]\u001b[A\n",
      " 76%|█████████████████████████████▋         | 4003/5268 [01:48<00:30, 41.04it/s]\u001b[A\n",
      " 76%|█████████████████████████████▋         | 4008/5268 [01:48<00:31, 40.29it/s]\u001b[A\n",
      " 76%|█████████████████████████████▋         | 4013/5268 [01:48<00:30, 40.56it/s]\u001b[A\n",
      " 76%|█████████████████████████████▋         | 4018/5268 [01:48<00:30, 40.55it/s]\u001b[A\n",
      " 76%|█████████████████████████████▊         | 4023/5268 [01:48<00:30, 40.17it/s]\u001b[A\n",
      " 76%|█████████████████████████████▊         | 4028/5268 [01:48<00:31, 38.83it/s]\u001b[A\n",
      " 77%|█████████████████████████████▊         | 4033/5268 [01:48<00:31, 39.74it/s]\u001b[A\n",
      " 77%|█████████████████████████████▉         | 4037/5268 [01:48<00:31, 39.51it/s]\u001b[A\n",
      " 77%|█████████████████████████████▉         | 4042/5268 [01:48<00:30, 40.84it/s]\u001b[A\n",
      " 77%|█████████████████████████████▉         | 4047/5268 [01:49<00:29, 40.96it/s]\u001b[A\n",
      " 77%|█████████████████████████████▉         | 4052/5268 [01:49<00:30, 40.30it/s]\u001b[A\n",
      " 77%|██████████████████████████████         | 4057/5268 [01:49<00:29, 40.60it/s]\u001b[A\n",
      " 77%|██████████████████████████████         | 4062/5268 [01:49<00:29, 40.61it/s]\u001b[A\n",
      " 77%|██████████████████████████████         | 4067/5268 [01:49<00:30, 40.02it/s]\u001b[A\n",
      " 77%|██████████████████████████████▏        | 4072/5268 [01:49<00:30, 39.68it/s]\u001b[A\n",
      " 77%|██████████████████████████████▏        | 4076/5268 [01:49<00:30, 39.62it/s]\u001b[A\n",
      " 77%|██████████████████████████████▏        | 4081/5268 [01:49<00:29, 40.55it/s]\u001b[A\n",
      " 78%|██████████████████████████████▏        | 4086/5268 [01:50<00:29, 40.31it/s]\u001b[A\n",
      " 78%|██████████████████████████████▎        | 4091/5268 [01:50<00:29, 39.88it/s]\u001b[A\n",
      " 78%|██████████████████████████████▎        | 4096/5268 [01:50<00:29, 40.12it/s]\u001b[A\n",
      " 78%|██████████████████████████████▎        | 4101/5268 [01:50<00:28, 40.55it/s]\u001b[A\n",
      " 78%|██████████████████████████████▍        | 4106/5268 [01:50<00:28, 40.37it/s]\u001b[A\n",
      " 78%|██████████████████████████████▍        | 4111/5268 [01:50<00:28, 39.91it/s]\u001b[A\n",
      " 78%|██████████████████████████████▍        | 4116/5268 [01:50<00:28, 40.30it/s]\u001b[A\n",
      " 78%|██████████████████████████████▌        | 4121/5268 [01:50<00:28, 40.67it/s]\u001b[A\n",
      " 78%|██████████████████████████████▌        | 4126/5268 [01:51<00:27, 41.22it/s]\u001b[A\n",
      " 78%|██████████████████████████████▌        | 4131/5268 [01:51<00:27, 41.29it/s]\u001b[A\n",
      " 79%|██████████████████████████████▌        | 4136/5268 [01:51<00:27, 40.93it/s]\u001b[A\n",
      " 79%|██████████████████████████████▋        | 4141/5268 [01:51<00:27, 41.31it/s]\u001b[A\n",
      " 79%|██████████████████████████████▋        | 4146/5268 [01:51<00:27, 41.13it/s]\u001b[A\n",
      " 79%|██████████████████████████████▋        | 4151/5268 [01:51<00:28, 39.83it/s]\u001b[A\n",
      " 79%|██████████████████████████████▊        | 4156/5268 [01:51<00:27, 40.04it/s]\u001b[A\n",
      " 79%|██████████████████████████████▊        | 4161/5268 [01:51<00:27, 39.94it/s]\u001b[A\n",
      " 79%|██████████████████████████████▊        | 4165/5268 [01:52<00:27, 39.93it/s]\u001b[A\n",
      " 79%|██████████████████████████████▊        | 4170/5268 [01:52<00:26, 40.71it/s]\u001b[A\n",
      " 79%|██████████████████████████████▉        | 4175/5268 [01:52<00:28, 38.18it/s]\u001b[A\n",
      " 79%|██████████████████████████████▉        | 4179/5268 [01:52<00:29, 36.80it/s]\u001b[A\n",
      " 79%|██████████████████████████████▉        | 4183/5268 [01:52<00:29, 37.33it/s]\u001b[A\n",
      " 79%|██████████████████████████████▉        | 4187/5268 [01:52<00:29, 37.11it/s]\u001b[A\n",
      " 80%|███████████████████████████████        | 4192/5268 [01:52<00:27, 38.69it/s]\u001b[A\n",
      " 80%|███████████████████████████████        | 4197/5268 [01:52<00:27, 39.04it/s]\u001b[A\n",
      " 80%|███████████████████████████████        | 4202/5268 [01:53<00:26, 39.73it/s]\u001b[A\n",
      " 80%|███████████████████████████████▏       | 4206/5268 [01:53<00:26, 39.75it/s]\u001b[A\n",
      " 80%|███████████████████████████████▏       | 4210/5268 [01:53<00:26, 39.53it/s]\u001b[A\n",
      " 80%|███████████████████████████████▏       | 4215/5268 [01:53<00:26, 40.27it/s]\u001b[A\n",
      " 80%|███████████████████████████████▏       | 4220/5268 [01:53<00:26, 40.14it/s]\u001b[A\n",
      " 80%|███████████████████████████████▎       | 4225/5268 [01:53<00:25, 40.78it/s]\u001b[A\n",
      " 80%|███████████████████████████████▎       | 4230/5268 [01:53<00:25, 40.27it/s]\u001b[A\n",
      " 80%|███████████████████████████████▎       | 4235/5268 [01:53<00:26, 38.77it/s]\u001b[A\n",
      " 80%|███████████████████████████████▍       | 4239/5268 [01:53<00:27, 36.87it/s]\u001b[A\n",
      " 81%|███████████████████████████████▍       | 4243/5268 [01:54<00:27, 37.66it/s]\u001b[A\n",
      " 81%|███████████████████████████████▍       | 4248/5268 [01:54<00:26, 38.49it/s]\u001b[A\n",
      " 81%|███████████████████████████████▍       | 4252/5268 [01:54<00:26, 38.77it/s]\u001b[A\n",
      " 81%|███████████████████████████████▌       | 4257/5268 [01:54<00:25, 40.11it/s]\u001b[A\n",
      " 81%|███████████████████████████████▌       | 4262/5268 [01:54<00:25, 40.11it/s]\u001b[A\n",
      " 81%|███████████████████████████████▌       | 4267/5268 [01:54<00:25, 39.52it/s]\u001b[A\n",
      " 81%|███████████████████████████████▌       | 4271/5268 [01:54<00:25, 39.61it/s]\u001b[A\n",
      " 81%|███████████████████████████████▋       | 4276/5268 [01:54<00:24, 39.97it/s]\u001b[A\n",
      " 81%|███████████████████████████████▋       | 4281/5268 [01:55<00:24, 40.57it/s]\u001b[A\n",
      " 81%|███████████████████████████████▋       | 4286/5268 [01:55<00:24, 40.83it/s]\u001b[A\n",
      " 81%|███████████████████████████████▊       | 4291/5268 [01:55<00:24, 40.57it/s]\u001b[A\n",
      " 82%|███████████████████████████████▊       | 4296/5268 [01:55<00:24, 40.34it/s]\u001b[A\n",
      " 82%|███████████████████████████████▊       | 4301/5268 [01:55<00:24, 40.27it/s]\u001b[A\n",
      " 82%|███████████████████████████████▉       | 4306/5268 [01:55<00:24, 39.27it/s]\u001b[A\n",
      " 82%|███████████████████████████████▉       | 4311/5268 [01:55<00:24, 39.79it/s]\u001b[A\n",
      " 82%|███████████████████████████████▉       | 4316/5268 [01:55<00:23, 40.59it/s]\u001b[A\n",
      " 82%|███████████████████████████████▉       | 4321/5268 [01:55<00:23, 41.03it/s]\u001b[A\n",
      " 82%|████████████████████████████████       | 4326/5268 [01:56<00:22, 41.39it/s]\u001b[A\n",
      " 82%|████████████████████████████████       | 4331/5268 [01:56<00:23, 40.65it/s]\u001b[A\n",
      " 82%|████████████████████████████████       | 4336/5268 [01:56<00:22, 40.89it/s]\u001b[A\n",
      " 82%|████████████████████████████████▏      | 4341/5268 [01:56<00:22, 41.44it/s]\u001b[A\n",
      " 82%|████████████████████████████████▏      | 4346/5268 [01:56<00:22, 40.48it/s]\u001b[A\n",
      " 83%|████████████████████████████████▏      | 4351/5268 [01:56<00:23, 39.47it/s]\u001b[A\n",
      " 83%|████████████████████████████████▏      | 4356/5268 [01:56<00:22, 40.22it/s]\u001b[A\n",
      " 83%|████████████████████████████████▎      | 4361/5268 [01:56<00:22, 40.90it/s]\u001b[A\n",
      " 83%|████████████████████████████████▎      | 4366/5268 [01:57<00:21, 41.27it/s]\u001b[A\n",
      " 83%|████████████████████████████████▎      | 4371/5268 [01:57<00:21, 40.79it/s]\u001b[A\n",
      " 83%|████████████████████████████████▍      | 4376/5268 [01:57<00:21, 40.93it/s]\u001b[A\n",
      " 83%|████████████████████████████████▍      | 4381/5268 [01:57<00:21, 41.53it/s]\u001b[A\n",
      " 83%|████████████████████████████████▍      | 4386/5268 [01:57<00:21, 41.88it/s]\u001b[A\n",
      " 83%|████████████████████████████████▌      | 4391/5268 [01:57<00:20, 41.97it/s]\u001b[A\n",
      " 83%|████████████████████████████████▌      | 4396/5268 [01:57<00:20, 41.86it/s]\u001b[A\n",
      " 84%|████████████████████████████████▌      | 4401/5268 [01:57<00:20, 42.01it/s]\u001b[A\n",
      " 84%|████████████████████████████████▌      | 4406/5268 [01:58<00:20, 41.41it/s]\u001b[A\n",
      " 84%|████████████████████████████████▋      | 4411/5268 [01:58<00:20, 41.57it/s]\u001b[A\n",
      " 84%|████████████████████████████████▋      | 4416/5268 [01:58<00:20, 41.78it/s]\u001b[A\n",
      " 84%|████████████████████████████████▋      | 4421/5268 [01:58<00:20, 42.01it/s]\u001b[A\n",
      " 84%|████████████████████████████████▊      | 4426/5268 [01:58<00:20, 41.58it/s]\u001b[A\n",
      " 84%|████████████████████████████████▊      | 4431/5268 [01:58<00:20, 40.70it/s]\u001b[A\n",
      " 84%|████████████████████████████████▊      | 4436/5268 [01:58<00:20, 41.21it/s]\u001b[A\n",
      " 84%|████████████████████████████████▉      | 4441/5268 [01:58<00:20, 41.04it/s]\u001b[A\n",
      " 84%|████████████████████████████████▉      | 4446/5268 [01:59<00:20, 40.58it/s]\u001b[A\n"
     ]
    },
    {
     "name": "stderr",
     "output_type": "stream",
     "text": [
      " 84%|████████████████████████████████▉      | 4451/5268 [01:59<00:19, 41.04it/s]\u001b[A\n",
      " 85%|████████████████████████████████▉      | 4456/5268 [01:59<00:20, 40.36it/s]\u001b[A\n",
      " 85%|█████████████████████████████████      | 4461/5268 [01:59<00:19, 40.54it/s]\u001b[A\n",
      " 85%|█████████████████████████████████      | 4466/5268 [01:59<00:20, 38.34it/s]\u001b[A\n",
      " 85%|█████████████████████████████████      | 4470/5268 [01:59<00:21, 37.51it/s]\u001b[A\n",
      " 85%|█████████████████████████████████▏     | 4475/5268 [01:59<00:20, 38.84it/s]\u001b[A\n",
      " 85%|█████████████████████████████████▏     | 4480/5268 [01:59<00:20, 39.40it/s]\u001b[A\n",
      " 85%|█████████████████████████████████▏     | 4485/5268 [02:00<00:19, 40.13it/s]\u001b[A\n",
      " 85%|█████████████████████████████████▏     | 4490/5268 [02:00<00:19, 40.73it/s]\u001b[A\n",
      " 85%|█████████████████████████████████▎     | 4495/5268 [02:00<00:19, 40.57it/s]\u001b[A\n",
      " 85%|█████████████████████████████████▎     | 4500/5268 [02:00<00:18, 41.01it/s]\u001b[A\n",
      " 86%|█████████████████████████████████▎     | 4505/5268 [02:00<00:18, 40.48it/s]\u001b[A\n",
      " 86%|█████████████████████████████████▍     | 4510/5268 [02:00<00:19, 39.09it/s]\u001b[A\n",
      " 86%|█████████████████████████████████▍     | 4515/5268 [02:00<00:18, 39.94it/s]\u001b[A\n",
      " 86%|█████████████████████████████████▍     | 4520/5268 [02:00<00:18, 40.42it/s]\u001b[A\n",
      " 86%|█████████████████████████████████▍     | 4525/5268 [02:01<00:18, 40.56it/s]\u001b[A\n",
      " 86%|█████████████████████████████████▌     | 4530/5268 [02:01<00:18, 40.94it/s]\u001b[A\n",
      " 86%|█████████████████████████████████▌     | 4535/5268 [02:01<00:18, 40.66it/s]\u001b[A\n",
      " 86%|█████████████████████████████████▌     | 4540/5268 [02:01<00:17, 41.08it/s]\u001b[A\n",
      " 86%|█████████████████████████████████▋     | 4545/5268 [02:01<00:17, 40.98it/s]\u001b[A\n",
      " 86%|█████████████████████████████████▋     | 4550/5268 [02:01<00:18, 38.24it/s]\u001b[A\n",
      " 86%|█████████████████████████████████▋     | 4555/5268 [02:01<00:18, 39.24it/s]\u001b[A\n",
      " 87%|█████████████████████████████████▊     | 4560/5268 [02:01<00:17, 39.92it/s]\u001b[A\n",
      " 87%|█████████████████████████████████▊     | 4565/5268 [02:02<00:17, 40.58it/s]\u001b[A\n",
      " 87%|█████████████████████████████████▊     | 4570/5268 [02:02<00:17, 40.68it/s]\u001b[A\n",
      " 87%|█████████████████████████████████▊     | 4575/5268 [02:02<00:17, 40.72it/s]\u001b[A\n",
      " 87%|█████████████████████████████████▉     | 4580/5268 [02:02<00:16, 41.16it/s]\u001b[A\n",
      " 87%|█████████████████████████████████▉     | 4585/5268 [02:02<00:16, 40.95it/s]\u001b[A\n",
      " 87%|█████████████████████████████████▉     | 4590/5268 [02:02<00:17, 39.60it/s]\u001b[A\n",
      " 87%|██████████████████████████████████     | 4595/5268 [02:02<00:16, 40.15it/s]\u001b[A\n",
      " 87%|██████████████████████████████████     | 4600/5268 [02:02<00:16, 40.72it/s]\u001b[A\n",
      " 87%|██████████████████████████████████     | 4605/5268 [02:02<00:16, 41.05it/s]\u001b[A\n",
      " 88%|██████████████████████████████████▏    | 4610/5268 [02:03<00:15, 41.40it/s]\u001b[A\n",
      " 88%|██████████████████████████████████▏    | 4615/5268 [02:03<00:15, 41.16it/s]\u001b[A\n",
      " 88%|██████████████████████████████████▏    | 4620/5268 [02:03<00:15, 40.74it/s]\u001b[A\n",
      " 88%|██████████████████████████████████▏    | 4625/5268 [02:03<00:15, 41.43it/s]\u001b[A\n",
      " 88%|██████████████████████████████████▎    | 4630/5268 [02:03<00:15, 41.30it/s]\u001b[A\n",
      " 88%|██████████████████████████████████▎    | 4635/5268 [02:03<00:15, 40.80it/s]\u001b[A\n",
      " 88%|██████████████████████████████████▎    | 4640/5268 [02:03<00:15, 41.22it/s]\u001b[A\n",
      " 88%|██████████████████████████████████▍    | 4645/5268 [02:03<00:15, 41.37it/s]\u001b[A\n",
      " 88%|██████████████████████████████████▍    | 4650/5268 [02:04<00:14, 41.39it/s]\u001b[A\n",
      " 88%|██████████████████████████████████▍    | 4655/5268 [02:04<00:14, 41.49it/s]\u001b[A\n",
      " 88%|██████████████████████████████████▍    | 4660/5268 [02:04<00:14, 41.54it/s]\u001b[A\n",
      " 89%|██████████████████████████████████▌    | 4665/5268 [02:04<00:14, 41.71it/s]\u001b[A\n",
      " 89%|██████████████████████████████████▌    | 4670/5268 [02:04<00:14, 40.76it/s]\u001b[A\n",
      " 89%|██████████████████████████████████▌    | 4675/5268 [02:04<00:14, 40.15it/s]\u001b[A\n",
      " 89%|██████████████████████████████████▋    | 4680/5268 [02:04<00:14, 41.01it/s]\u001b[A\n",
      " 89%|██████████████████████████████████▋    | 4685/5268 [02:04<00:14, 41.01it/s]\u001b[A\n",
      " 89%|██████████████████████████████████▋    | 4690/5268 [02:05<00:13, 41.60it/s]\u001b[A\n",
      " 89%|██████████████████████████████████▊    | 4695/5268 [02:05<00:13, 41.50it/s]\u001b[A\n",
      " 89%|██████████████████████████████████▊    | 4700/5268 [02:05<00:13, 41.53it/s]\u001b[A\n",
      " 89%|██████████████████████████████████▊    | 4705/5268 [02:05<00:13, 42.01it/s]\u001b[A\n",
      " 89%|██████████████████████████████████▊    | 4710/5268 [02:05<00:13, 40.62it/s]\u001b[A\n",
      " 90%|██████████████████████████████████▉    | 4715/5268 [02:05<00:13, 39.65it/s]\u001b[A\n",
      " 90%|██████████████████████████████████▉    | 4719/5268 [02:05<00:13, 39.60it/s]\u001b[A\n",
      " 90%|██████████████████████████████████▉    | 4724/5268 [02:05<00:13, 40.55it/s]\u001b[A\n",
      " 90%|███████████████████████████████████    | 4729/5268 [02:06<00:13, 41.00it/s]\u001b[A\n",
      " 90%|███████████████████████████████████    | 4734/5268 [02:06<00:12, 41.36it/s]\u001b[A\n",
      " 90%|███████████████████████████████████    | 4739/5268 [02:06<00:12, 41.17it/s]\u001b[A\n",
      " 90%|███████████████████████████████████    | 4744/5268 [02:06<00:12, 41.33it/s]\u001b[A\n",
      " 90%|███████████████████████████████████▏   | 4749/5268 [02:06<00:12, 41.20it/s]\u001b[A\n",
      " 90%|███████████████████████████████████▏   | 4754/5268 [02:06<00:12, 40.03it/s]\u001b[A\n",
      " 90%|███████████████████████████████████▏   | 4759/5268 [02:06<00:12, 40.72it/s]\u001b[A\n",
      " 90%|███████████████████████████████████▎   | 4764/5268 [02:06<00:12, 40.55it/s]\u001b[A\n",
      " 91%|███████████████████████████████████▎   | 4769/5268 [02:06<00:12, 40.80it/s]\u001b[A\n",
      " 91%|███████████████████████████████████▎   | 4774/5268 [02:07<00:11, 41.55it/s]\u001b[A\n",
      " 91%|███████████████████████████████████▍   | 4779/5268 [02:07<00:12, 40.19it/s]\u001b[A\n",
      " 91%|███████████████████████████████████▍   | 4784/5268 [02:07<00:11, 40.71it/s]\u001b[A\n",
      " 91%|███████████████████████████████████▍   | 4789/5268 [02:07<00:11, 41.22it/s]\u001b[A\n",
      " 91%|███████████████████████████████████▍   | 4794/5268 [02:07<00:11, 40.95it/s]\u001b[A\n",
      " 91%|███████████████████████████████████▌   | 4799/5268 [02:07<00:11, 40.52it/s]\u001b[A\n",
      " 91%|███████████████████████████████████▌   | 4804/5268 [02:07<00:11, 40.74it/s]\u001b[A\n",
      " 91%|███████████████████████████████████▌   | 4809/5268 [02:07<00:11, 40.88it/s]\u001b[A\n",
      " 91%|███████████████████████████████████▋   | 4814/5268 [02:08<00:11, 41.25it/s]\u001b[A\n",
      " 91%|███████████████████████████████████▋   | 4819/5268 [02:08<00:11, 40.66it/s]\u001b[A\n",
      " 92%|███████████████████████████████████▋   | 4824/5268 [02:08<00:10, 41.04it/s]\u001b[A\n",
      " 92%|███████████████████████████████████▊   | 4829/5268 [02:08<00:10, 40.88it/s]\u001b[A\n",
      " 92%|███████████████████████████████████▊   | 4834/5268 [02:08<00:10, 40.91it/s]\u001b[A\n",
      " 92%|███████████████████████████████████▊   | 4839/5268 [02:08<00:10, 40.22it/s]\u001b[A\n",
      " 92%|███████████████████████████████████▊   | 4844/5268 [02:08<00:10, 40.47it/s]\u001b[A\n",
      " 92%|███████████████████████████████████▉   | 4849/5268 [02:08<00:10, 40.97it/s]\u001b[A\n",
      " 92%|███████████████████████████████████▉   | 4854/5268 [02:09<00:09, 41.45it/s]\u001b[A\n",
      " 92%|███████████████████████████████████▉   | 4859/5268 [02:09<00:09, 41.00it/s]\u001b[A\n",
      " 92%|████████████████████████████████████   | 4864/5268 [02:09<00:09, 41.19it/s]\u001b[A\n",
      " 92%|████████████████████████████████████   | 4869/5268 [02:09<00:09, 41.40it/s]\u001b[A\n",
      " 93%|████████████████████████████████████   | 4874/5268 [02:09<00:09, 40.84it/s]\u001b[A\n",
      " 93%|████████████████████████████████████   | 4879/5268 [02:09<00:09, 40.13it/s]\u001b[A\n",
      " 93%|████████████████████████████████████▏  | 4884/5268 [02:09<00:09, 40.59it/s]\u001b[A\n",
      " 93%|████████████████████████████████████▏  | 4889/5268 [02:09<00:09, 41.05it/s]\u001b[A\n",
      " 93%|████████████████████████████████████▏  | 4894/5268 [02:10<00:09, 41.51it/s]\u001b[A\n",
      " 93%|████████████████████████████████████▎  | 4899/5268 [02:10<00:09, 40.95it/s]\u001b[A\n",
      " 93%|████████████████████████████████████▎  | 4904/5268 [02:10<00:08, 41.08it/s]\u001b[A\n",
      " 93%|████████████████████████████████████▎  | 4909/5268 [02:10<00:08, 41.77it/s]\u001b[A\n",
      " 93%|████████████████████████████████████▍  | 4914/5268 [02:10<00:08, 41.55it/s]\u001b[A\n",
      " 93%|████████████████████████████████████▍  | 4919/5268 [02:10<00:08, 39.78it/s]\u001b[A\n",
      " 93%|████████████████████████████████████▍  | 4924/5268 [02:10<00:08, 40.41it/s]\u001b[A\n",
      " 94%|████████████████████████████████████▍  | 4929/5268 [02:10<00:08, 41.13it/s]\u001b[A\n"
     ]
    },
    {
     "name": "stderr",
     "output_type": "stream",
     "text": [
      " 94%|████████████████████████████████████▌  | 4934/5268 [02:11<00:08, 41.01it/s]\u001b[A\n",
      " 94%|████████████████████████████████████▌  | 4939/5268 [02:11<00:07, 41.59it/s]\u001b[A\n",
      " 94%|████████████████████████████████████▌  | 4944/5268 [02:11<00:07, 41.09it/s]\u001b[A\n",
      " 94%|████████████████████████████████████▋  | 4949/5268 [02:11<00:07, 41.44it/s]\u001b[A\n",
      " 94%|████████████████████████████████████▋  | 4954/5268 [02:11<00:07, 40.98it/s]\u001b[A\n",
      " 94%|████████████████████████████████████▋  | 4959/5268 [02:11<00:07, 39.81it/s]\u001b[A\n",
      " 94%|████████████████████████████████████▋  | 4964/5268 [02:11<00:07, 40.50it/s]\u001b[A\n",
      " 94%|████████████████████████████████████▊  | 4969/5268 [02:11<00:07, 41.30it/s]\u001b[A\n",
      " 94%|████████████████████████████████████▊  | 4974/5268 [02:11<00:07, 41.55it/s]\u001b[A\n",
      " 95%|████████████████████████████████████▊  | 4979/5268 [02:12<00:06, 41.79it/s]\u001b[A\n",
      " 95%|████████████████████████████████████▉  | 4984/5268 [02:12<00:06, 41.47it/s]\u001b[A\n",
      " 95%|████████████████████████████████████▉  | 4989/5268 [02:12<00:06, 41.69it/s]\u001b[A\n",
      " 95%|████████████████████████████████████▉  | 4994/5268 [02:12<00:06, 41.45it/s]\u001b[A\n",
      " 95%|█████████████████████████████████████  | 4999/5268 [02:12<00:06, 41.59it/s]\u001b[A\n",
      " 95%|█████████████████████████████████████  | 5004/5268 [02:12<00:06, 41.57it/s]\u001b[A\n",
      " 95%|█████████████████████████████████████  | 5009/5268 [02:12<00:06, 41.71it/s]\u001b[A\n",
      " 95%|█████████████████████████████████████  | 5014/5268 [02:12<00:06, 41.46it/s]\u001b[A\n",
      " 95%|█████████████████████████████████████▏ | 5019/5268 [02:13<00:06, 41.27it/s]\u001b[A\n",
      " 95%|█████████████████████████████████████▏ | 5024/5268 [02:13<00:05, 41.56it/s]\u001b[A\n",
      " 95%|█████████████████████████████████████▏ | 5029/5268 [02:13<00:05, 41.76it/s]\u001b[A\n",
      " 96%|█████████████████████████████████████▎ | 5034/5268 [02:13<00:05, 41.17it/s]\u001b[A\n",
      " 96%|█████████████████████████████████████▎ | 5039/5268 [02:13<00:05, 41.22it/s]\u001b[A\n",
      " 96%|█████████████████████████████████████▎ | 5044/5268 [02:13<00:05, 40.92it/s]\u001b[A\n",
      " 96%|█████████████████████████████████████▍ | 5049/5268 [02:13<00:05, 41.66it/s]\u001b[A\n",
      " 96%|█████████████████████████████████████▍ | 5054/5268 [02:13<00:05, 41.47it/s]\u001b[A\n",
      " 96%|█████████████████████████████████████▍ | 5059/5268 [02:14<00:05, 41.57it/s]\u001b[A\n",
      " 96%|█████████████████████████████████████▍ | 5064/5268 [02:14<00:04, 41.78it/s]\u001b[A\n",
      " 96%|█████████████████████████████████████▌ | 5069/5268 [02:14<00:04, 41.61it/s]\u001b[A\n",
      " 96%|█████████████████████████████████████▌ | 5074/5268 [02:14<00:04, 41.48it/s]\u001b[A\n",
      " 96%|█████████████████████████████████████▌ | 5079/5268 [02:14<00:04, 40.47it/s]\u001b[A\n",
      " 97%|█████████████████████████████████████▋ | 5084/5268 [02:14<00:04, 39.54it/s]\u001b[A\n",
      " 97%|█████████████████████████████████████▋ | 5089/5268 [02:14<00:04, 40.39it/s]\u001b[A\n",
      " 97%|█████████████████████████████████████▋ | 5094/5268 [02:14<00:04, 41.10it/s]\u001b[A\n",
      " 97%|█████████████████████████████████████▋ | 5099/5268 [02:15<00:04, 41.22it/s]\u001b[A\n",
      " 97%|█████████████████████████████████████▊ | 5104/5268 [02:15<00:03, 41.25it/s]\u001b[A\n",
      " 97%|█████████████████████████████████████▊ | 5109/5268 [02:15<00:03, 39.79it/s]\u001b[A\n",
      " 97%|█████████████████████████████████████▊ | 5113/5268 [02:15<00:03, 39.79it/s]\u001b[A\n",
      " 97%|█████████████████████████████████████▉ | 5118/5268 [02:15<00:03, 40.59it/s]\u001b[A\n",
      " 97%|█████████████████████████████████████▉ | 5123/5268 [02:15<00:03, 39.39it/s]\u001b[A\n",
      " 97%|█████████████████████████████████████▉ | 5128/5268 [02:15<00:03, 40.15it/s]\u001b[A\n",
      " 97%|██████████████████████████████████████ | 5133/5268 [02:15<00:03, 40.93it/s]\u001b[A\n",
      " 98%|██████████████████████████████████████ | 5138/5268 [02:15<00:03, 40.67it/s]\u001b[A\n",
      " 98%|██████████████████████████████████████ | 5143/5268 [02:16<00:03, 41.21it/s]\u001b[A\n",
      " 98%|██████████████████████████████████████ | 5148/5268 [02:16<00:02, 40.86it/s]\u001b[A\n",
      " 98%|██████████████████████████████████████▏| 5153/5268 [02:16<00:02, 41.39it/s]\u001b[A\n",
      " 98%|██████████████████████████████████████▏| 5158/5268 [02:16<00:02, 41.07it/s]\u001b[A\n",
      " 98%|██████████████████████████████████████▏| 5163/5268 [02:16<00:02, 40.13it/s]\u001b[A\n",
      " 98%|██████████████████████████████████████▎| 5168/5268 [02:16<00:02, 39.91it/s]\u001b[A\n",
      " 98%|██████████████████████████████████████▎| 5173/5268 [02:16<00:02, 40.47it/s]\u001b[A\n",
      " 98%|██████████████████████████████████████▎| 5178/5268 [02:16<00:02, 40.24it/s]\u001b[A\n",
      " 98%|██████████████████████████████████████▎| 5183/5268 [02:17<00:02, 40.97it/s]\u001b[A\n",
      " 98%|██████████████████████████████████████▍| 5188/5268 [02:17<00:01, 40.72it/s]\u001b[A\n",
      " 99%|██████████████████████████████████████▍| 5193/5268 [02:17<00:01, 41.05it/s]\u001b[A\n",
      " 99%|██████████████████████████████████████▍| 5198/5268 [02:17<00:01, 41.31it/s]\u001b[A\n",
      " 99%|██████████████████████████████████████▌| 5203/5268 [02:17<00:01, 41.24it/s]\u001b[A\n",
      " 99%|██████████████████████████████████████▌| 5208/5268 [02:17<00:01, 41.20it/s]\u001b[A\n",
      " 99%|██████████████████████████████████████▌| 5213/5268 [02:17<00:01, 41.55it/s]\u001b[A\n",
      " 99%|██████████████████████████████████████▋| 5218/5268 [02:17<00:01, 41.91it/s]\u001b[A\n",
      " 99%|██████████████████████████████████████▋| 5223/5268 [02:18<00:01, 41.39it/s]\u001b[A\n",
      " 99%|██████████████████████████████████████▋| 5228/5268 [02:18<00:00, 41.84it/s]\u001b[A\n",
      " 99%|██████████████████████████████████████▋| 5233/5268 [02:18<00:00, 42.11it/s]\u001b[A\n",
      " 99%|██████████████████████████████████████▊| 5238/5268 [02:18<00:00, 42.19it/s]\u001b[A\n",
      "100%|██████████████████████████████████████▊| 5243/5268 [02:18<00:00, 41.02it/s]\u001b[A\n",
      "100%|██████████████████████████████████████▊| 5248/5268 [02:18<00:00, 39.78it/s]\u001b[A\n",
      "100%|██████████████████████████████████████▉| 5253/5268 [02:18<00:00, 40.54it/s]\u001b[A\n",
      "100%|██████████████████████████████████████▉| 5258/5268 [02:18<00:00, 40.82it/s]\u001b[A\n",
      "100%|██████████████████████████████████████▉| 5263/5268 [02:19<00:00, 40.61it/s]\u001b[A\n",
      "100%|███████████████████████████████████████| 5268/5268 [02:19<00:00, 41.43it/s]\u001b[A"
     ]
    },
    {
     "name": "stdout",
     "output_type": "stream",
     "text": [
      "epoch 2: {'precision': 0.629585997980478, 'recall': 0.5591928251121077, 'f1': 0.5923052564914503, 'accuracy': 0.919424277566842}\n"
     ]
    }
   ],
   "source": [
    "progress_bar = tqdm(range(num_training_steps))\n",
    "\n",
    "for epoch in range(num_train_epochs):\n",
    "    # Training\n",
    "    model.train()\n",
    "    for batch in train_dataloader:\n",
    "        outputs = model(**batch)\n",
    "        loss = outputs.loss\n",
    "        accelerator.backward(loss)\n",
    "\n",
    "        optimizer.step()\n",
    "        lr_scheduler.step()\n",
    "        optimizer.zero_grad()\n",
    "        progress_bar.update(1)\n",
    "\n",
    "    # Evaluation\n",
    "    model.eval()\n",
    "    for batch in eval_dataloader:\n",
    "        with torch.no_grad():\n",
    "            outputs = model(**batch)\n",
    "\n",
    "        predictions = outputs.logits.argmax(dim=-1)\n",
    "        labels = batch[\"labels\"]\n",
    "\n",
    "        # Necessary to pad predictions and labels for being gathered\n",
    "        predictions = accelerator.pad_across_processes(predictions, dim=1, pad_index=-100)\n",
    "        labels = accelerator.pad_across_processes(labels, dim=1, pad_index=-100)\n",
    "\n",
    "        predictions_gathered = accelerator.gather(predictions)\n",
    "        labels_gathered = accelerator.gather(labels)\n",
    "\n",
    "        true_predictions, true_labels = postprocess(predictions_gathered, labels_gathered)\n",
    "        metric.add_batch(predictions=true_predictions, references=true_labels)\n",
    "\n",
    "    results = metric.compute()\n",
    "    print(\n",
    "        f\"epoch {epoch}:\",\n",
    "        {\n",
    "            key: results[f\"overall_{key}\"]\n",
    "            for key in [\"precision\", \"recall\", \"f1\", \"accuracy\"]\n",
    "        },\n",
    "    )\n",
    "\n",
    "#     # Save and upload\n",
    "    accelerator.wait_for_everyone()\n",
    "    unwrapped_model = accelerator.unwrap_model(model)\n",
    "    unwrapped_model.save_pretrained(output_dir + f'/epoch_{epoch}', save_function=accelerator.save)\n",
    "    if accelerator.is_main_process:\n",
    "        tokenizer.save_pretrained(output_dir)\n",
    "#         repo.push_to_hub(\n",
    "#             commit_message=f\"Training in progress epoch {epoch}\", blocking=False\n",
    "#         )"
   ]
  },
  {
   "cell_type": "code",
   "execution_count": null,
   "id": "418ded12",
   "metadata": {},
   "outputs": [],
   "source": []
  },
  {
   "cell_type": "code",
   "execution_count": null,
   "id": "74a1db1a",
   "metadata": {},
   "outputs": [],
   "source": []
  },
  {
   "cell_type": "markdown",
   "id": "86bc51f6",
   "metadata": {},
   "source": [
    "#  Анализ результатов"
   ]
  },
  {
   "cell_type": "markdown",
   "id": "8cbf62c7",
   "metadata": {},
   "source": [
    "Протестируем модель на тестовых данных:"
   ]
  },
  {
   "cell_type": "code",
   "execution_count": 43,
   "id": "a62d3e32",
   "metadata": {},
   "outputs": [],
   "source": [
    "test_dataloader = DataLoader(\n",
    "    tokenized_datasets[\"test\"], \n",
    "    collate_fn=data_collator,\n",
    "    batch_size=8\n",
    ")"
   ]
  },
  {
   "cell_type": "markdown",
   "id": "d84e22bb",
   "metadata": {},
   "source": [
    "Загружаем модель из сохраненных данных от последней эпохи:"
   ]
  },
  {
   "cell_type": "code",
   "execution_count": 44,
   "id": "23777205",
   "metadata": {},
   "outputs": [],
   "source": [
    "model = AutoModelForTokenClassification.from_pretrained('./models/epoch_2')"
   ]
  },
  {
   "cell_type": "code",
   "execution_count": 77,
   "id": "6c78cc4a",
   "metadata": {},
   "outputs": [
    {
     "name": "stdout",
     "output_type": "stream",
     "text": [
      "{'precision': 0.5931010207673354, 'recall': 0.5089865579217641, 'f1': 0.5478338616597578, 'accuracy': 0.9108815757866923}\n"
     ]
    }
   ],
   "source": [
    "model.eval()\n",
    "all_predictions = []\n",
    "all_test = []\n",
    "for batch in test_dataloader:\n",
    "    with torch.no_grad():\n",
    "        outputs = model(**batch)\n",
    "\n",
    "    predictions = outputs.logits.argmax(dim=-1)\n",
    "    labels = batch[\"labels\"]\n",
    "\n",
    "    # Necessary to pad predictions and labels for being gathered\n",
    "    predictions = accelerator.pad_across_processes(predictions, dim=1, pad_index=-100)\n",
    "    labels = accelerator.pad_across_processes(labels, dim=1, pad_index=-100)\n",
    "\n",
    "    predictions_gathered = accelerator.gather(predictions)\n",
    "    labels_gathered = accelerator.gather(labels)\n",
    "\n",
    "    true_predictions, true_labels = postprocess(predictions_gathered, labels_gathered)\n",
    "    metric.add_batch(predictions=true_predictions, references=true_labels)\n",
    "    \n",
    "    all_test.extend(true_labels)\n",
    "    all_predictions.extend(true_predictions)\n",
    "    \n",
    "results = metric.compute()\n",
    "print(\n",
    "    {\n",
    "        key: results[f\"overall_{key}\"]\n",
    "        for key in [\"precision\", \"recall\", \"f1\", \"accuracy\"]\n",
    "    },\n",
    ")"
   ]
  },
  {
   "cell_type": "code",
   "execution_count": 78,
   "id": "0a6cf53b",
   "metadata": {},
   "outputs": [
    {
     "data": {
      "text/plain": [
       "{'LOC': {'precision': 0.6947743467933492,\n",
       "  'recall': 0.6148187073042565,\n",
       "  'f1': 0.6523557290214665,\n",
       "  'number': 1903},\n",
       " 'MISC': {'precision': 0.4410112359550562,\n",
       "  'recall': 0.47289156626506024,\n",
       "  'f1': 0.45639534883720934,\n",
       "  'number': 664},\n",
       " 'ORG': {'precision': 0.3835039133052378,\n",
       "  'recall': 0.3607021517553794,\n",
       "  'f1': 0.3717537204552086,\n",
       "  'number': 1766},\n",
       " 'PER': {'precision': 0.7686153846153846,\n",
       "  'recall': 0.5458916083916084,\n",
       "  'f1': 0.6383848709430104,\n",
       "  'number': 2288},\n",
       " 'overall_precision': 0.5931010207673354,\n",
       " 'overall_recall': 0.5089865579217641,\n",
       " 'overall_f1': 0.5478338616597578,\n",
       " 'overall_accuracy': 0.9108815757866923}"
      ]
     },
     "execution_count": 78,
     "metadata": {},
     "output_type": "execute_result"
    }
   ],
   "source": [
    "results "
   ]
  },
  {
   "cell_type": "code",
   "execution_count": 82,
   "id": "fd6563a1",
   "metadata": {},
   "outputs": [
    {
     "data": {
      "text/plain": [
       "['B-PER', 'I-PER', 'I-PER', 'I-PER']"
      ]
     },
     "execution_count": 82,
     "metadata": {},
     "output_type": "execute_result"
    }
   ],
   "source": [
    "all_test[1]"
   ]
  },
  {
   "cell_type": "code",
   "execution_count": 81,
   "id": "83b49455",
   "metadata": {},
   "outputs": [
    {
     "data": {
      "text/plain": [
       "['B-PER', 'I-PER', 'I-PER', 'I-PER']"
      ]
     },
     "execution_count": 81,
     "metadata": {},
     "output_type": "execute_result"
    }
   ],
   "source": [
    "all_predictions[1]"
   ]
  },
  {
   "cell_type": "code",
   "execution_count": 74,
   "id": "edeb2868",
   "metadata": {},
   "outputs": [
    {
     "data": {
      "text/plain": [
       "['[CLS]',\n",
       " 'soccer',\n",
       " '-',\n",
       " 'japan',\n",
       " 'get',\n",
       " 'lucky',\n",
       " 'win',\n",
       " ',',\n",
       " 'china',\n",
       " 'in',\n",
       " 'surprise',\n",
       " 'defeat',\n",
       " '.',\n",
       " '[SEP]']"
      ]
     },
     "execution_count": 74,
     "metadata": {},
     "output_type": "execute_result"
    }
   ],
   "source": [
    "test_0.tokens()"
   ]
  },
  {
   "cell_type": "code",
   "execution_count": null,
   "id": "b6dd5fb9",
   "metadata": {},
   "outputs": [],
   "source": []
  },
  {
   "cell_type": "code",
   "execution_count": null,
   "id": "4daac24b",
   "metadata": {},
   "outputs": [],
   "source": []
  }
 ],
 "metadata": {
  "kernelspec": {
   "display_name": "mlops",
   "language": "python",
   "name": "mlops"
  },
  "language_info": {
   "codemirror_mode": {
    "name": "ipython",
    "version": 3
   },
   "file_extension": ".py",
   "mimetype": "text/x-python",
   "name": "python",
   "nbconvert_exporter": "python",
   "pygments_lexer": "ipython3",
   "version": "3.8.13"
  },
  "toc": {
   "base_numbering": 1,
   "nav_menu": {},
   "number_sections": true,
   "sideBar": true,
   "skip_h1_title": false,
   "title_cell": "Table of Contents",
   "title_sidebar": "Contents",
   "toc_cell": false,
   "toc_position": {},
   "toc_section_display": true,
   "toc_window_display": false
  },
  "vscode": {
   "interpreter": {
    "hash": "916dbcbb3f70747c44a77c7bcd40155683ae19c65e1c03b4aa3499c5328201f1"
   }
  }
 },
 "nbformat": 4,
 "nbformat_minor": 5
}
